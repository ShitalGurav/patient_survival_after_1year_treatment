{
 "cells": [
  {
   "cell_type": "markdown",
   "id": "8bcb130e",
   "metadata": {},
   "source": [
    "# Patient Survival After One Year of Treatment\n",
    "\n",
    "### About the dataset\n",
    "\n",
    "The dataset contains the patient records collected from a hospital in Greenland. The \"Survived_1_year\" column is a target variable which has binary entries (0 or 1).\n",
    "\n",
    "- Survived_1_year == 0, implies that the patient did not survive after 1 year of treatment\n",
    "- Survived_1_year == 1, implies that the patient survived after 1 year of treatment\n",
    "\n",
    "\n",
    "### Data Description\n",
    "\n",
    "- **ID_Patient_Care_Situation**: Care situation of a patient during treatment\n",
    "- **Diagnosed_Condition**: The diagnosed condition of the patient\n",
    "- **ID_Patient**: Patient identifier number\n",
    "- **Treatment_with_drugs**: Class of drugs used during treatment\n",
    "- **Survived_1_year**: If the patient survived after one year (0 means did not survive; 1 means survived)\n",
    "- **Patient_Age**: Age of the patient\n",
    "- **Patient_Body_Mass_Index**: A calculated value based on the patient’s weight, height, etc.\n",
    "- **Patient_Smoker**: If the patient was a smoker or not\n",
    "- **Patient_Rural_Urban**: If the patient stayed in Rural or Urban part of the country\n",
    "- **Previous_Condition**: Condition of the patient before the start of the treatment ( This variable is splitted into 8 columns  A, B, C, D, E, F, Z and Number_of_prev_cond. A, B, C, D, E, F and Z are the previous conditions of the patient. Suppose for one patient, if the entry in column A is 1, it means that the previous condition of the patient was A. If the patient didn't have that condition, it is 0 and same for other conditions. If a patient has previous condition as A and C , columns A and C will have entries as 1 and 1 respectively while the other column B, D, E, F, Z will have entries 0, 0, 0, 0, 0 respectively. The column Number_of_prev_cond will have entry as 2 i.e. 1 + 0 + 1 + 0 + 0 + 0 + 0 + 0 = 2 in this case. )"
   ]
  },
  {
   "cell_type": "code",
   "execution_count": 1,
   "id": "0ea28bd8",
   "metadata": {},
   "outputs": [],
   "source": [
    "import pandas as pd\n",
    "import numpy as np"
   ]
  },
  {
   "cell_type": "code",
   "execution_count": 2,
   "id": "3e3b7034",
   "metadata": {},
   "outputs": [
    {
     "data": {
      "text/html": [
       "<div>\n",
       "<style scoped>\n",
       "    .dataframe tbody tr th:only-of-type {\n",
       "        vertical-align: middle;\n",
       "    }\n",
       "\n",
       "    .dataframe tbody tr th {\n",
       "        vertical-align: top;\n",
       "    }\n",
       "\n",
       "    .dataframe thead th {\n",
       "        text-align: right;\n",
       "    }\n",
       "</style>\n",
       "<table border=\"1\" class=\"dataframe\">\n",
       "  <thead>\n",
       "    <tr style=\"text-align: right;\">\n",
       "      <th></th>\n",
       "      <th>ID_Patient_Care_Situation</th>\n",
       "      <th>Diagnosed_Condition</th>\n",
       "      <th>Patient_ID</th>\n",
       "      <th>Treated_with_drugs</th>\n",
       "      <th>Patient_Age</th>\n",
       "      <th>Patient_Body_Mass_Index</th>\n",
       "      <th>Patient_Smoker</th>\n",
       "      <th>Patient_Rural_Urban</th>\n",
       "      <th>Patient_mental_condition</th>\n",
       "      <th>A</th>\n",
       "      <th>B</th>\n",
       "      <th>C</th>\n",
       "      <th>D</th>\n",
       "      <th>E</th>\n",
       "      <th>F</th>\n",
       "      <th>Z</th>\n",
       "      <th>Number_of_prev_cond</th>\n",
       "      <th>Survived_1_year</th>\n",
       "    </tr>\n",
       "  </thead>\n",
       "  <tbody>\n",
       "    <tr>\n",
       "      <th>0</th>\n",
       "      <td>16201</td>\n",
       "      <td>47</td>\n",
       "      <td>8433</td>\n",
       "      <td>DX2</td>\n",
       "      <td>60</td>\n",
       "      <td>21.655523</td>\n",
       "      <td>NO</td>\n",
       "      <td>URBAN</td>\n",
       "      <td>Stable</td>\n",
       "      <td>1.0</td>\n",
       "      <td>0.0</td>\n",
       "      <td>0.0</td>\n",
       "      <td>0.0</td>\n",
       "      <td>1.0</td>\n",
       "      <td>0.0</td>\n",
       "      <td>0.0</td>\n",
       "      <td>2.0</td>\n",
       "      <td>1</td>\n",
       "    </tr>\n",
       "    <tr>\n",
       "      <th>1</th>\n",
       "      <td>9421</td>\n",
       "      <td>3</td>\n",
       "      <td>2972</td>\n",
       "      <td>DX6</td>\n",
       "      <td>2</td>\n",
       "      <td>28.852743</td>\n",
       "      <td>NO</td>\n",
       "      <td>RURAL</td>\n",
       "      <td>Stable</td>\n",
       "      <td>1.0</td>\n",
       "      <td>0.0</td>\n",
       "      <td>1.0</td>\n",
       "      <td>0.0</td>\n",
       "      <td>1.0</td>\n",
       "      <td>0.0</td>\n",
       "      <td>0.0</td>\n",
       "      <td>3.0</td>\n",
       "      <td>0</td>\n",
       "    </tr>\n",
       "    <tr>\n",
       "      <th>2</th>\n",
       "      <td>16205</td>\n",
       "      <td>7</td>\n",
       "      <td>8608</td>\n",
       "      <td>Dx6</td>\n",
       "      <td>20</td>\n",
       "      <td>26.179725</td>\n",
       "      <td>NO</td>\n",
       "      <td>RURAL</td>\n",
       "      <td>Stable</td>\n",
       "      <td>1.0</td>\n",
       "      <td>0.0</td>\n",
       "      <td>0.0</td>\n",
       "      <td>0.0</td>\n",
       "      <td>1.0</td>\n",
       "      <td>0.0</td>\n",
       "      <td>0.0</td>\n",
       "      <td>2.0</td>\n",
       "      <td>1</td>\n",
       "    </tr>\n",
       "    <tr>\n",
       "      <th>3</th>\n",
       "      <td>5582</td>\n",
       "      <td>31</td>\n",
       "      <td>10074</td>\n",
       "      <td>dx6</td>\n",
       "      <td>8</td>\n",
       "      <td>22.638945</td>\n",
       "      <td>NO</td>\n",
       "      <td>RURAL</td>\n",
       "      <td>Stable</td>\n",
       "      <td>1.0</td>\n",
       "      <td>0.0</td>\n",
       "      <td>0.0</td>\n",
       "      <td>0.0</td>\n",
       "      <td>1.0</td>\n",
       "      <td>0.0</td>\n",
       "      <td>0.0</td>\n",
       "      <td>2.0</td>\n",
       "      <td>0</td>\n",
       "    </tr>\n",
       "    <tr>\n",
       "      <th>4</th>\n",
       "      <td>20880</td>\n",
       "      <td>43</td>\n",
       "      <td>7462</td>\n",
       "      <td>dx1</td>\n",
       "      <td>53</td>\n",
       "      <td>21.326131</td>\n",
       "      <td>NO</td>\n",
       "      <td>RURAL</td>\n",
       "      <td>Stable</td>\n",
       "      <td>1.0</td>\n",
       "      <td>0.0</td>\n",
       "      <td>0.0</td>\n",
       "      <td>0.0</td>\n",
       "      <td>0.0</td>\n",
       "      <td>0.0</td>\n",
       "      <td>0.0</td>\n",
       "      <td>1.0</td>\n",
       "      <td>1</td>\n",
       "    </tr>\n",
       "  </tbody>\n",
       "</table>\n",
       "</div>"
      ],
      "text/plain": [
       "   ID_Patient_Care_Situation  Diagnosed_Condition  Patient_ID  \\\n",
       "0                      16201                   47        8433   \n",
       "1                       9421                    3        2972   \n",
       "2                      16205                    7        8608   \n",
       "3                       5582                   31       10074   \n",
       "4                      20880                   43        7462   \n",
       "\n",
       "  Treated_with_drugs  Patient_Age  Patient_Body_Mass_Index Patient_Smoker  \\\n",
       "0                DX2           60                21.655523             NO   \n",
       "1                DX6            2                28.852743             NO   \n",
       "2                Dx6           20                26.179725             NO   \n",
       "3               dx6             8                22.638945             NO   \n",
       "4                dx1           53                21.326131             NO   \n",
       "\n",
       "  Patient_Rural_Urban Patient_mental_condition    A    B    C    D    E    F  \\\n",
       "0               URBAN                   Stable  1.0  0.0  0.0  0.0  1.0  0.0   \n",
       "1               RURAL                   Stable  1.0  0.0  1.0  0.0  1.0  0.0   \n",
       "2               RURAL                   Stable  1.0  0.0  0.0  0.0  1.0  0.0   \n",
       "3               RURAL                   Stable  1.0  0.0  0.0  0.0  1.0  0.0   \n",
       "4               RURAL                   Stable  1.0  0.0  0.0  0.0  0.0  0.0   \n",
       "\n",
       "     Z  Number_of_prev_cond  Survived_1_year  \n",
       "0  0.0                  2.0                1  \n",
       "1  0.0                  3.0                0  \n",
       "2  0.0                  2.0                1  \n",
       "3  0.0                  2.0                0  \n",
       "4  0.0                  1.0                1  "
      ]
     },
     "execution_count": 2,
     "metadata": {},
     "output_type": "execute_result"
    }
   ],
   "source": [
    "# Importing data\n",
    "pharma_data = pd.read_csv(\"Training_set_advance.csv\",header=0,index_col=None)\n",
    "# print first 5 rows of dataset\n",
    "pharma_data.head()"
   ]
  },
  {
   "cell_type": "code",
   "execution_count": 3,
   "id": "36904ca2",
   "metadata": {},
   "outputs": [
    {
     "data": {
      "text/html": [
       "<div>\n",
       "<style scoped>\n",
       "    .dataframe tbody tr th:only-of-type {\n",
       "        vertical-align: middle;\n",
       "    }\n",
       "\n",
       "    .dataframe tbody tr th {\n",
       "        vertical-align: top;\n",
       "    }\n",
       "\n",
       "    .dataframe thead th {\n",
       "        text-align: right;\n",
       "    }\n",
       "</style>\n",
       "<table border=\"1\" class=\"dataframe\">\n",
       "  <thead>\n",
       "    <tr style=\"text-align: right;\">\n",
       "      <th></th>\n",
       "      <th>ID_Patient_Care_Situation</th>\n",
       "      <th>Diagnosed_Condition</th>\n",
       "      <th>Patient_ID</th>\n",
       "      <th>Treated_with_drugs</th>\n",
       "      <th>Patient_Age</th>\n",
       "      <th>Patient_Body_Mass_Index</th>\n",
       "      <th>Patient_Smoker</th>\n",
       "      <th>Patient_Rural_Urban</th>\n",
       "      <th>Patient_mental_condition</th>\n",
       "      <th>A</th>\n",
       "      <th>B</th>\n",
       "      <th>C</th>\n",
       "      <th>D</th>\n",
       "      <th>E</th>\n",
       "      <th>F</th>\n",
       "      <th>Z</th>\n",
       "      <th>Number_of_prev_cond</th>\n",
       "      <th>Survived_1_year</th>\n",
       "    </tr>\n",
       "  </thead>\n",
       "  <tbody>\n",
       "    <tr>\n",
       "      <th>25074</th>\n",
       "      <td>3233</td>\n",
       "      <td>2</td>\n",
       "      <td>2491</td>\n",
       "      <td>Dx3 dx4</td>\n",
       "      <td>33</td>\n",
       "      <td>20.825297</td>\n",
       "      <td>NO</td>\n",
       "      <td>RURAL</td>\n",
       "      <td>Stable</td>\n",
       "      <td>1.0</td>\n",
       "      <td>0.0</td>\n",
       "      <td>1.0</td>\n",
       "      <td>0.0</td>\n",
       "      <td>1.0</td>\n",
       "      <td>0.0</td>\n",
       "      <td>0.0</td>\n",
       "      <td>3.0</td>\n",
       "      <td>1</td>\n",
       "    </tr>\n",
       "    <tr>\n",
       "      <th>25075</th>\n",
       "      <td>31394</td>\n",
       "      <td>21</td>\n",
       "      <td>2806</td>\n",
       "      <td>DX2</td>\n",
       "      <td>60</td>\n",
       "      <td>22.679810</td>\n",
       "      <td>YES</td>\n",
       "      <td>RURAL</td>\n",
       "      <td>Stable</td>\n",
       "      <td>1.0</td>\n",
       "      <td>0.0</td>\n",
       "      <td>1.0</td>\n",
       "      <td>0.0</td>\n",
       "      <td>0.0</td>\n",
       "      <td>0.0</td>\n",
       "      <td>0.0</td>\n",
       "      <td>2.0</td>\n",
       "      <td>0</td>\n",
       "    </tr>\n",
       "    <tr>\n",
       "      <th>25076</th>\n",
       "      <td>28315</td>\n",
       "      <td>18</td>\n",
       "      <td>11733</td>\n",
       "      <td>DX4 DX5</td>\n",
       "      <td>51</td>\n",
       "      <td>19.952023</td>\n",
       "      <td>YES</td>\n",
       "      <td>RURAL</td>\n",
       "      <td>Stable</td>\n",
       "      <td>0.0</td>\n",
       "      <td>0.0</td>\n",
       "      <td>1.0</td>\n",
       "      <td>0.0</td>\n",
       "      <td>0.0</td>\n",
       "      <td>0.0</td>\n",
       "      <td>0.0</td>\n",
       "      <td>1.0</td>\n",
       "      <td>1</td>\n",
       "    </tr>\n",
       "    <tr>\n",
       "      <th>25077</th>\n",
       "      <td>1338</td>\n",
       "      <td>4</td>\n",
       "      <td>8577</td>\n",
       "      <td>dx5</td>\n",
       "      <td>21</td>\n",
       "      <td>20.681303</td>\n",
       "      <td>NO</td>\n",
       "      <td>URBAN</td>\n",
       "      <td>Stable</td>\n",
       "      <td>1.0</td>\n",
       "      <td>0.0</td>\n",
       "      <td>0.0</td>\n",
       "      <td>0.0</td>\n",
       "      <td>0.0</td>\n",
       "      <td>0.0</td>\n",
       "      <td>0.0</td>\n",
       "      <td>1.0</td>\n",
       "      <td>1</td>\n",
       "    </tr>\n",
       "    <tr>\n",
       "      <th>25078</th>\n",
       "      <td>16072</td>\n",
       "      <td>18</td>\n",
       "      <td>10629</td>\n",
       "      <td>DX2 DX3</td>\n",
       "      <td>54</td>\n",
       "      <td>21.830371</td>\n",
       "      <td>NO</td>\n",
       "      <td>RURAL</td>\n",
       "      <td>Stable</td>\n",
       "      <td>1.0</td>\n",
       "      <td>0.0</td>\n",
       "      <td>0.0</td>\n",
       "      <td>0.0</td>\n",
       "      <td>0.0</td>\n",
       "      <td>0.0</td>\n",
       "      <td>0.0</td>\n",
       "      <td>1.0</td>\n",
       "      <td>1</td>\n",
       "    </tr>\n",
       "  </tbody>\n",
       "</table>\n",
       "</div>"
      ],
      "text/plain": [
       "       ID_Patient_Care_Situation  Diagnosed_Condition  Patient_ID  \\\n",
       "25074                       3233                    2        2491   \n",
       "25075                      31394                   21        2806   \n",
       "25076                      28315                   18       11733   \n",
       "25077                       1338                    4        8577   \n",
       "25078                      16072                   18       10629   \n",
       "\n",
       "      Treated_with_drugs  Patient_Age  Patient_Body_Mass_Index Patient_Smoker  \\\n",
       "25074           Dx3 dx4            33                20.825297            NO    \n",
       "25075               DX2            60                22.679810            YES   \n",
       "25076            DX4 DX5           51                19.952023            YES   \n",
       "25077                dx5           21                20.681303             NO   \n",
       "25078            DX2 DX3           54                21.830371             NO   \n",
       "\n",
       "      Patient_Rural_Urban Patient_mental_condition    A    B    C    D    E  \\\n",
       "25074               RURAL                   Stable  1.0  0.0  1.0  0.0  1.0   \n",
       "25075               RURAL                   Stable  1.0  0.0  1.0  0.0  0.0   \n",
       "25076               RURAL                   Stable  0.0  0.0  1.0  0.0  0.0   \n",
       "25077               URBAN                   Stable  1.0  0.0  0.0  0.0  0.0   \n",
       "25078               RURAL                   Stable  1.0  0.0  0.0  0.0  0.0   \n",
       "\n",
       "         F    Z  Number_of_prev_cond  Survived_1_year  \n",
       "25074  0.0  0.0                  3.0                1  \n",
       "25075  0.0  0.0                  2.0                0  \n",
       "25076  0.0  0.0                  1.0                1  \n",
       "25077  0.0  0.0                  1.0                1  \n",
       "25078  0.0  0.0                  1.0                1  "
      ]
     },
     "execution_count": 3,
     "metadata": {},
     "output_type": "execute_result"
    }
   ],
   "source": [
    "# print last 5 rows of dataset\n",
    "pharma_data.tail()"
   ]
  },
  {
   "cell_type": "code",
   "execution_count": 4,
   "id": "c1db04b9",
   "metadata": {},
   "outputs": [
    {
     "name": "stdout",
     "output_type": "stream",
     "text": [
      "<class 'pandas.core.frame.DataFrame'>\n",
      "RangeIndex: 25079 entries, 0 to 25078\n",
      "Data columns (total 18 columns):\n",
      " #   Column                     Non-Null Count  Dtype  \n",
      "---  ------                     --------------  -----  \n",
      " 0   ID_Patient_Care_Situation  25079 non-null  int64  \n",
      " 1   Diagnosed_Condition        25079 non-null  int64  \n",
      " 2   Patient_ID                 25079 non-null  int64  \n",
      " 3   Treated_with_drugs         25071 non-null  object \n",
      " 4   Patient_Age                25079 non-null  int64  \n",
      " 5   Patient_Body_Mass_Index    25079 non-null  float64\n",
      " 6   Patient_Smoker             25079 non-null  object \n",
      " 7   Patient_Rural_Urban        25079 non-null  object \n",
      " 8   Patient_mental_condition   25079 non-null  object \n",
      " 9   A                          23723 non-null  float64\n",
      " 10  B                          23723 non-null  float64\n",
      " 11  C                          23723 non-null  float64\n",
      " 12  D                          23723 non-null  float64\n",
      " 13  E                          23723 non-null  float64\n",
      " 14  F                          23723 non-null  float64\n",
      " 15  Z                          23723 non-null  float64\n",
      " 16  Number_of_prev_cond        23723 non-null  float64\n",
      " 17  Survived_1_year            25079 non-null  int64  \n",
      "dtypes: float64(9), int64(5), object(4)\n",
      "memory usage: 3.4+ MB\n"
     ]
    }
   ],
   "source": [
    "# print information about dataset including the index dtype and columns, non-null values and memory usage.\n",
    "pharma_data.info()"
   ]
  },
  {
   "cell_type": "code",
   "execution_count": 5,
   "id": "d3204a69",
   "metadata": {},
   "outputs": [
    {
     "data": {
      "text/plain": [
       "(25079, 18)"
      ]
     },
     "execution_count": 5,
     "metadata": {},
     "output_type": "execute_result"
    }
   ],
   "source": [
    "# print dimensionality of dataset which has 25079 rows, 18 columns\n",
    "pharma_data.shape"
   ]
  },
  {
   "cell_type": "code",
   "execution_count": 6,
   "id": "ea63c4a3",
   "metadata": {},
   "outputs": [
    {
     "data": {
      "text/html": [
       "<div>\n",
       "<style scoped>\n",
       "    .dataframe tbody tr th:only-of-type {\n",
       "        vertical-align: middle;\n",
       "    }\n",
       "\n",
       "    .dataframe tbody tr th {\n",
       "        vertical-align: top;\n",
       "    }\n",
       "\n",
       "    .dataframe thead th {\n",
       "        text-align: right;\n",
       "    }\n",
       "</style>\n",
       "<table border=\"1\" class=\"dataframe\">\n",
       "  <thead>\n",
       "    <tr style=\"text-align: right;\">\n",
       "      <th></th>\n",
       "      <th>ID_Patient_Care_Situation</th>\n",
       "      <th>Diagnosed_Condition</th>\n",
       "      <th>Patient_ID</th>\n",
       "      <th>Patient_Age</th>\n",
       "      <th>Patient_Body_Mass_Index</th>\n",
       "      <th>A</th>\n",
       "      <th>B</th>\n",
       "      <th>C</th>\n",
       "      <th>D</th>\n",
       "      <th>E</th>\n",
       "      <th>F</th>\n",
       "      <th>Z</th>\n",
       "      <th>Number_of_prev_cond</th>\n",
       "      <th>Survived_1_year</th>\n",
       "    </tr>\n",
       "  </thead>\n",
       "  <tbody>\n",
       "    <tr>\n",
       "      <th>count</th>\n",
       "      <td>25079.000000</td>\n",
       "      <td>25079.000000</td>\n",
       "      <td>25079.000000</td>\n",
       "      <td>25079.000000</td>\n",
       "      <td>25079.000000</td>\n",
       "      <td>23723.000000</td>\n",
       "      <td>23723.000000</td>\n",
       "      <td>23723.000000</td>\n",
       "      <td>23723.000000</td>\n",
       "      <td>23723.000000</td>\n",
       "      <td>23723.000000</td>\n",
       "      <td>23723.000000</td>\n",
       "      <td>23723.000000</td>\n",
       "      <td>25079.000000</td>\n",
       "    </tr>\n",
       "    <tr>\n",
       "      <th>mean</th>\n",
       "      <td>16509.925396</td>\n",
       "      <td>26.382631</td>\n",
       "      <td>6237.758523</td>\n",
       "      <td>33.193548</td>\n",
       "      <td>23.439952</td>\n",
       "      <td>0.894111</td>\n",
       "      <td>0.136028</td>\n",
       "      <td>0.183409</td>\n",
       "      <td>0.083716</td>\n",
       "      <td>0.396240</td>\n",
       "      <td>0.054420</td>\n",
       "      <td>0.000337</td>\n",
       "      <td>1.748261</td>\n",
       "      <td>0.634316</td>\n",
       "    </tr>\n",
       "    <tr>\n",
       "      <th>std</th>\n",
       "      <td>9536.958469</td>\n",
       "      <td>15.096967</td>\n",
       "      <td>3603.338849</td>\n",
       "      <td>19.507617</td>\n",
       "      <td>3.778849</td>\n",
       "      <td>0.307702</td>\n",
       "      <td>0.342826</td>\n",
       "      <td>0.387009</td>\n",
       "      <td>0.276968</td>\n",
       "      <td>0.489126</td>\n",
       "      <td>0.226849</td>\n",
       "      <td>0.018361</td>\n",
       "      <td>0.770324</td>\n",
       "      <td>0.481631</td>\n",
       "    </tr>\n",
       "    <tr>\n",
       "      <th>min</th>\n",
       "      <td>1.000000</td>\n",
       "      <td>0.000000</td>\n",
       "      <td>1.000000</td>\n",
       "      <td>0.000000</td>\n",
       "      <td>1.089300</td>\n",
       "      <td>0.000000</td>\n",
       "      <td>0.000000</td>\n",
       "      <td>0.000000</td>\n",
       "      <td>0.000000</td>\n",
       "      <td>0.000000</td>\n",
       "      <td>0.000000</td>\n",
       "      <td>0.000000</td>\n",
       "      <td>1.000000</td>\n",
       "      <td>0.000000</td>\n",
       "    </tr>\n",
       "    <tr>\n",
       "      <th>25%</th>\n",
       "      <td>8220.000000</td>\n",
       "      <td>13.000000</td>\n",
       "      <td>3125.000000</td>\n",
       "      <td>16.000000</td>\n",
       "      <td>20.205050</td>\n",
       "      <td>1.000000</td>\n",
       "      <td>0.000000</td>\n",
       "      <td>0.000000</td>\n",
       "      <td>0.000000</td>\n",
       "      <td>0.000000</td>\n",
       "      <td>0.000000</td>\n",
       "      <td>0.000000</td>\n",
       "      <td>1.000000</td>\n",
       "      <td>0.000000</td>\n",
       "    </tr>\n",
       "    <tr>\n",
       "      <th>50%</th>\n",
       "      <td>16466.000000</td>\n",
       "      <td>26.000000</td>\n",
       "      <td>6228.000000</td>\n",
       "      <td>33.000000</td>\n",
       "      <td>23.369168</td>\n",
       "      <td>1.000000</td>\n",
       "      <td>0.000000</td>\n",
       "      <td>0.000000</td>\n",
       "      <td>0.000000</td>\n",
       "      <td>0.000000</td>\n",
       "      <td>0.000000</td>\n",
       "      <td>0.000000</td>\n",
       "      <td>2.000000</td>\n",
       "      <td>1.000000</td>\n",
       "    </tr>\n",
       "    <tr>\n",
       "      <th>75%</th>\n",
       "      <td>24784.000000</td>\n",
       "      <td>40.000000</td>\n",
       "      <td>9356.500000</td>\n",
       "      <td>50.000000</td>\n",
       "      <td>26.730785</td>\n",
       "      <td>1.000000</td>\n",
       "      <td>0.000000</td>\n",
       "      <td>0.000000</td>\n",
       "      <td>0.000000</td>\n",
       "      <td>1.000000</td>\n",
       "      <td>0.000000</td>\n",
       "      <td>0.000000</td>\n",
       "      <td>2.000000</td>\n",
       "      <td>1.000000</td>\n",
       "    </tr>\n",
       "    <tr>\n",
       "      <th>max</th>\n",
       "      <td>33013.000000</td>\n",
       "      <td>52.000000</td>\n",
       "      <td>12514.000000</td>\n",
       "      <td>142.000000</td>\n",
       "      <td>29.999579</td>\n",
       "      <td>1.000000</td>\n",
       "      <td>1.000000</td>\n",
       "      <td>1.000000</td>\n",
       "      <td>1.000000</td>\n",
       "      <td>1.000000</td>\n",
       "      <td>1.000000</td>\n",
       "      <td>1.000000</td>\n",
       "      <td>5.000000</td>\n",
       "      <td>1.000000</td>\n",
       "    </tr>\n",
       "  </tbody>\n",
       "</table>\n",
       "</div>"
      ],
      "text/plain": [
       "       ID_Patient_Care_Situation  Diagnosed_Condition    Patient_ID  \\\n",
       "count               25079.000000         25079.000000  25079.000000   \n",
       "mean                16509.925396            26.382631   6237.758523   \n",
       "std                  9536.958469            15.096967   3603.338849   \n",
       "min                     1.000000             0.000000      1.000000   \n",
       "25%                  8220.000000            13.000000   3125.000000   \n",
       "50%                 16466.000000            26.000000   6228.000000   \n",
       "75%                 24784.000000            40.000000   9356.500000   \n",
       "max                 33013.000000            52.000000  12514.000000   \n",
       "\n",
       "        Patient_Age  Patient_Body_Mass_Index             A             B  \\\n",
       "count  25079.000000             25079.000000  23723.000000  23723.000000   \n",
       "mean      33.193548                23.439952      0.894111      0.136028   \n",
       "std       19.507617                 3.778849      0.307702      0.342826   \n",
       "min        0.000000                 1.089300      0.000000      0.000000   \n",
       "25%       16.000000                20.205050      1.000000      0.000000   \n",
       "50%       33.000000                23.369168      1.000000      0.000000   \n",
       "75%       50.000000                26.730785      1.000000      0.000000   \n",
       "max      142.000000                29.999579      1.000000      1.000000   \n",
       "\n",
       "                  C             D             E             F             Z  \\\n",
       "count  23723.000000  23723.000000  23723.000000  23723.000000  23723.000000   \n",
       "mean       0.183409      0.083716      0.396240      0.054420      0.000337   \n",
       "std        0.387009      0.276968      0.489126      0.226849      0.018361   \n",
       "min        0.000000      0.000000      0.000000      0.000000      0.000000   \n",
       "25%        0.000000      0.000000      0.000000      0.000000      0.000000   \n",
       "50%        0.000000      0.000000      0.000000      0.000000      0.000000   \n",
       "75%        0.000000      0.000000      1.000000      0.000000      0.000000   \n",
       "max        1.000000      1.000000      1.000000      1.000000      1.000000   \n",
       "\n",
       "       Number_of_prev_cond  Survived_1_year  \n",
       "count         23723.000000     25079.000000  \n",
       "mean              1.748261         0.634316  \n",
       "std               0.770324         0.481631  \n",
       "min               1.000000         0.000000  \n",
       "25%               1.000000         0.000000  \n",
       "50%               2.000000         1.000000  \n",
       "75%               2.000000         1.000000  \n",
       "max               5.000000         1.000000  "
      ]
     },
     "execution_count": 6,
     "metadata": {},
     "output_type": "execute_result"
    }
   ],
   "source": [
    "# print summary statistics of dataset\n",
    "pharma_data.describe()"
   ]
  },
  {
   "cell_type": "markdown",
   "id": "8e2b3429",
   "metadata": {},
   "source": [
    "## -------------------------------------------------------------------------------------------------------------------------------------"
   ]
  },
  {
   "cell_type": "markdown",
   "id": "f8123e26",
   "metadata": {},
   "source": [
    "### Data Preprocessing\n",
    "\n",
    "We will check unique values ,missing values of all object type columns and preprocess them if necessary"
   ]
  },
  {
   "cell_type": "code",
   "execution_count": 7,
   "id": "2cea7205",
   "metadata": {},
   "outputs": [
    {
     "data": {
      "text/html": [
       "<div>\n",
       "<style scoped>\n",
       "    .dataframe tbody tr th:only-of-type {\n",
       "        vertical-align: middle;\n",
       "    }\n",
       "\n",
       "    .dataframe tbody tr th {\n",
       "        vertical-align: top;\n",
       "    }\n",
       "\n",
       "    .dataframe thead th {\n",
       "        text-align: right;\n",
       "    }\n",
       "</style>\n",
       "<table border=\"1\" class=\"dataframe\">\n",
       "  <thead>\n",
       "    <tr style=\"text-align: right;\">\n",
       "      <th></th>\n",
       "      <th>ID_Patient_Care_Situation</th>\n",
       "      <th>Diagnosed_Condition</th>\n",
       "      <th>Patient_ID</th>\n",
       "      <th>Treated_with_drugs</th>\n",
       "      <th>Patient_Age</th>\n",
       "      <th>Patient_Body_Mass_Index</th>\n",
       "      <th>Patient_Smoker</th>\n",
       "      <th>Patient_Rural_Urban</th>\n",
       "      <th>Patient_mental_condition</th>\n",
       "      <th>A</th>\n",
       "      <th>B</th>\n",
       "      <th>C</th>\n",
       "      <th>D</th>\n",
       "      <th>E</th>\n",
       "      <th>F</th>\n",
       "      <th>Z</th>\n",
       "      <th>Number_of_prev_cond</th>\n",
       "      <th>Survived_1_year</th>\n",
       "    </tr>\n",
       "  </thead>\n",
       "  <tbody>\n",
       "    <tr>\n",
       "      <th>0</th>\n",
       "      <td>16201</td>\n",
       "      <td>47</td>\n",
       "      <td>8433</td>\n",
       "      <td>DX2</td>\n",
       "      <td>60</td>\n",
       "      <td>21.655523</td>\n",
       "      <td>NO</td>\n",
       "      <td>URBAN</td>\n",
       "      <td>Stable</td>\n",
       "      <td>1.0</td>\n",
       "      <td>0.0</td>\n",
       "      <td>0.0</td>\n",
       "      <td>0.0</td>\n",
       "      <td>1.0</td>\n",
       "      <td>0.0</td>\n",
       "      <td>0.0</td>\n",
       "      <td>2.0</td>\n",
       "      <td>1</td>\n",
       "    </tr>\n",
       "    <tr>\n",
       "      <th>1</th>\n",
       "      <td>9421</td>\n",
       "      <td>3</td>\n",
       "      <td>2972</td>\n",
       "      <td>DX6</td>\n",
       "      <td>2</td>\n",
       "      <td>28.852743</td>\n",
       "      <td>NO</td>\n",
       "      <td>RURAL</td>\n",
       "      <td>Stable</td>\n",
       "      <td>1.0</td>\n",
       "      <td>0.0</td>\n",
       "      <td>1.0</td>\n",
       "      <td>0.0</td>\n",
       "      <td>1.0</td>\n",
       "      <td>0.0</td>\n",
       "      <td>0.0</td>\n",
       "      <td>3.0</td>\n",
       "      <td>0</td>\n",
       "    </tr>\n",
       "    <tr>\n",
       "      <th>2</th>\n",
       "      <td>16205</td>\n",
       "      <td>7</td>\n",
       "      <td>8608</td>\n",
       "      <td>Dx6</td>\n",
       "      <td>20</td>\n",
       "      <td>26.179725</td>\n",
       "      <td>NO</td>\n",
       "      <td>RURAL</td>\n",
       "      <td>Stable</td>\n",
       "      <td>1.0</td>\n",
       "      <td>0.0</td>\n",
       "      <td>0.0</td>\n",
       "      <td>0.0</td>\n",
       "      <td>1.0</td>\n",
       "      <td>0.0</td>\n",
       "      <td>0.0</td>\n",
       "      <td>2.0</td>\n",
       "      <td>1</td>\n",
       "    </tr>\n",
       "    <tr>\n",
       "      <th>3</th>\n",
       "      <td>5582</td>\n",
       "      <td>31</td>\n",
       "      <td>10074</td>\n",
       "      <td>dx6</td>\n",
       "      <td>8</td>\n",
       "      <td>22.638945</td>\n",
       "      <td>NO</td>\n",
       "      <td>RURAL</td>\n",
       "      <td>Stable</td>\n",
       "      <td>1.0</td>\n",
       "      <td>0.0</td>\n",
       "      <td>0.0</td>\n",
       "      <td>0.0</td>\n",
       "      <td>1.0</td>\n",
       "      <td>0.0</td>\n",
       "      <td>0.0</td>\n",
       "      <td>2.0</td>\n",
       "      <td>0</td>\n",
       "    </tr>\n",
       "    <tr>\n",
       "      <th>4</th>\n",
       "      <td>20880</td>\n",
       "      <td>43</td>\n",
       "      <td>7462</td>\n",
       "      <td>dx1</td>\n",
       "      <td>53</td>\n",
       "      <td>21.326131</td>\n",
       "      <td>NO</td>\n",
       "      <td>RURAL</td>\n",
       "      <td>Stable</td>\n",
       "      <td>1.0</td>\n",
       "      <td>0.0</td>\n",
       "      <td>0.0</td>\n",
       "      <td>0.0</td>\n",
       "      <td>0.0</td>\n",
       "      <td>0.0</td>\n",
       "      <td>0.0</td>\n",
       "      <td>1.0</td>\n",
       "      <td>1</td>\n",
       "    </tr>\n",
       "  </tbody>\n",
       "</table>\n",
       "</div>"
      ],
      "text/plain": [
       "   ID_Patient_Care_Situation  Diagnosed_Condition  Patient_ID  \\\n",
       "0                      16201                   47        8433   \n",
       "1                       9421                    3        2972   \n",
       "2                      16205                    7        8608   \n",
       "3                       5582                   31       10074   \n",
       "4                      20880                   43        7462   \n",
       "\n",
       "  Treated_with_drugs  Patient_Age  Patient_Body_Mass_Index Patient_Smoker  \\\n",
       "0                DX2           60                21.655523             NO   \n",
       "1                DX6            2                28.852743             NO   \n",
       "2                Dx6           20                26.179725             NO   \n",
       "3               dx6             8                22.638945             NO   \n",
       "4                dx1           53                21.326131             NO   \n",
       "\n",
       "  Patient_Rural_Urban Patient_mental_condition    A    B    C    D    E    F  \\\n",
       "0               URBAN                   Stable  1.0  0.0  0.0  0.0  1.0  0.0   \n",
       "1               RURAL                   Stable  1.0  0.0  1.0  0.0  1.0  0.0   \n",
       "2               RURAL                   Stable  1.0  0.0  0.0  0.0  1.0  0.0   \n",
       "3               RURAL                   Stable  1.0  0.0  0.0  0.0  1.0  0.0   \n",
       "4               RURAL                   Stable  1.0  0.0  0.0  0.0  0.0  0.0   \n",
       "\n",
       "     Z  Number_of_prev_cond  Survived_1_year  \n",
       "0  0.0                  2.0                1  \n",
       "1  0.0                  3.0                0  \n",
       "2  0.0                  2.0                1  \n",
       "3  0.0                  2.0                0  \n",
       "4  0.0                  1.0                1  "
      ]
     },
     "execution_count": 7,
     "metadata": {},
     "output_type": "execute_result"
    }
   ],
   "source": [
    "pharma_data.head()"
   ]
  },
  {
   "cell_type": "code",
   "execution_count": 8,
   "id": "147981d7",
   "metadata": {},
   "outputs": [
    {
     "data": {
      "text/plain": [
       "array(['DX2', 'DX6', 'Dx6', 'dx6 ', 'dx1', 'dx1 dx3 dx4 ', 'DX5 ', 'dx2 ',\n",
       "       'dx6', 'DX2 DX5 ', 'DX6 ', 'DX1', 'DX3 DX5', 'DX1 DX3', 'DX3 DX4 ',\n",
       "       'Dx3', 'DX2 DX3', 'DX1 ', 'DX3', 'dx4', 'Dx2', 'Dx1', 'dx1 ',\n",
       "       'DX1 DX2 DX3 DX5', 'Dx1 dx3', 'Dx5', 'DX2 ', 'DX4 ', 'DX4', 'dx3 ',\n",
       "       'DX3 DX4 DX5 ', 'DX1 DX3 ', 'DX2 DX5', 'dx3', 'DX1 DX5', 'DX2 DX4',\n",
       "       'dx2 dx3 ', 'dx2', 'DX3 DX5 ', 'DX5', 'DX2 DX3 DX4 ', 'DX4 DX5 ',\n",
       "       'DX3 ', 'DX1 DX5 ', 'dx5', 'Dx4', 'DX1 DX3 DX5', 'DX1 DX4 ',\n",
       "       'DX4 DX5', 'dx4 dx5', 'DX1 DX2 ', 'DX1 DX3 DX5 ', 'dx1 dx4',\n",
       "       'dx4 dx5 ', 'Dx1 dx4 ', 'Dx1 dx2 dx4 dx5 ', 'DX1 DX2', 'Dx4 dx5',\n",
       "       'DX1 DX3 DX4', 'DX1 DX2 DX3', 'Dx1 dx2', 'DX1 DX4 DX5 ',\n",
       "       'Dx1 dx2 ', 'DX1 DX4', 'dx2 dx5', 'dx3 dx4', 'DX3 DX4', 'dx2 dx4',\n",
       "       'Dx2 ', 'DX3 DX4 DX5', 'Dx5 ', 'Dx1 dx3 ', 'dx3 dx5', 'Dx6 ',\n",
       "       'DX1 DX3 DX4 ', 'DX1 DX2 DX4', 'dx5 ', 'DX2 DX4 ', 'DX1 DX4 DX5',\n",
       "       'Dx1 dx2 dx3 dx5', 'dx1 dx3 dx5 ', 'Dx2 dx5', 'dx2 dx3 dx4 ',\n",
       "       'DX1 DX2 DX5', 'dx4 ', 'DX2 DX4 DX5', 'DX2 DX3 DX5 ',\n",
       "       'Dx1 dx2 dx4', 'DX2 DX3 DX5', 'dx1 dx5 ', 'DX2 DX3 ', 'dx2 dx4 ',\n",
       "       'Dx3 dx4 dx5', 'Dx1 ', 'Dx3 ', 'dx1 dx4 ', 'Dx2 dx3 dx5 ',\n",
       "       'dx1 dx2 dx4', 'dx1 dx5', 'DX1 DX2 DX4 ', 'DX1 DX2 DX3 ',\n",
       "       'Dx2 dx5 ', 'Dx2 dx3 dx4 ', 'Dx3 dx5', 'Dx2 dx4', 'dx2 dx5 ', nan,\n",
       "       'Dx4 ', 'dx1 dx2 dx4 dx5', 'dx3 dx5 ', 'Dx2 dx3', 'DX2 DX3 DX4',\n",
       "       'dx1 dx2', 'DX2 DX4 DX5 ', 'Dx2 dx3 ', 'dx3 dx4 ', 'dx2 dx3',\n",
       "       'Dx4 dx5 ', 'DX1 DX2 DX3 DX4', 'Dx1 dx5', 'Dx1 dx4', 'dx1 dx3 dx5',\n",
       "       'Dx1 dx2 dx5', 'Dx2 dx4 ', 'DX1 DX3 DX4 DX5', 'dx1 dx3',\n",
       "       'Dx2 dx3 dx5', 'dx2 dx3 dx4', 'dx1 dx2 dx5 ', 'Dx3 dx4 ',\n",
       "       'dx1 dx4 dx5', 'dx1 dx3 dx4', 'Dx3 dx4', 'dx1 dx4 dx5 ',\n",
       "       'dx1 dx2 ', 'Dx1 dx2 dx4 dx5', 'Dx1 dx3 dx5 ', 'DX1 DX2 DX3 DX4 ',\n",
       "       'Dx2 dx4 dx5', 'dx3 dx4 dx5', 'Dx2 dx3 dx4', 'DX1 DX2 DX4 DX5',\n",
       "       'Dx3 dx5 ', 'dx1 dx3 ', 'dx1 dx2 dx5', 'DX1 DX2 DX5 ',\n",
       "       'Dx1 dx4 dx5 ', 'dx1 dx2 dx4 ', 'Dx1 dx5 ', 'DX2 DX3 DX4 DX5',\n",
       "       'Dx1 dx3 dx4', 'dx2 dx3 dx5 ', 'Dx1 dx2 dx3 ', 'DX1 DX2 DX4 DX5 ',\n",
       "       'dx2 dx3 dx4 dx5', 'dx1 dx2 dx3', 'DX1 DX2 DX3 DX4 DX5',\n",
       "       'DX1 DX3 DX4 DX5 ', 'Dx1 dx3 dx4 ', 'dx1 dx2 dx3 ', 'Dx1 dx2 dx3',\n",
       "       'dx1 dx3 dx4 dx5', 'Dx1 dx3 dx5', 'dx2 dx3 dx5', 'dx1 dx2 dx3 dx5',\n",
       "       'Dx3 dx4 dx5 ', 'dx1 dx3 dx4 dx5 ', 'DX2 DX3 DX4 DX5 ',\n",
       "       'dx1 dx2 dx3 dx4', 'dx2 dx4 dx5 ', 'dx2 dx4 dx5', 'Dx1 dx4 dx5',\n",
       "       'dx2 dx3 dx4 dx5 ', 'Dx1 dx2 dx5 ', 'dx1 dx2 dx3 dx5 ',\n",
       "       'Dx2 dx4 dx5 ', 'Dx1 dx2 dx3 dx4 ', 'Dx2 dx3 dx4 dx5',\n",
       "       'Dx1 dx2 dx3 dx4', 'Dx1 dx3 dx4 dx5', 'dx3 dx4 dx5 ',\n",
       "       'Dx1 dx2 dx4 ', 'DX1 DX2 DX3 DX4 DX5 '], dtype=object)"
      ]
     },
     "execution_count": 8,
     "metadata": {},
     "output_type": "execute_result"
    }
   ],
   "source": [
    "# check the unique values of column\n",
    "pharma_data[\"Treated_with_drugs\"].unique()"
   ]
  },
  {
   "cell_type": "code",
   "execution_count": 9,
   "id": "1849ff4d",
   "metadata": {},
   "outputs": [],
   "source": [
    "# remove spaces at the beginning and end of the string and transform it to uppercase\n",
    "pharma_data['Treated_with_drugs']=pharma_data['Treated_with_drugs'].str.strip().str.upper()"
   ]
  },
  {
   "cell_type": "code",
   "execution_count": 10,
   "id": "c3f56248",
   "metadata": {},
   "outputs": [
    {
     "data": {
      "text/plain": [
       "array(['DX2', 'DX6', 'DX1', 'DX1 DX3 DX4', 'DX5', 'DX2 DX5', 'DX3 DX5',\n",
       "       'DX1 DX3', 'DX3 DX4', 'DX3', 'DX2 DX3', 'DX4', 'DX1 DX2 DX3 DX5',\n",
       "       'DX3 DX4 DX5', 'DX1 DX5', 'DX2 DX4', 'DX2 DX3 DX4', 'DX4 DX5',\n",
       "       'DX1 DX3 DX5', 'DX1 DX4', 'DX1 DX2', 'DX1 DX2 DX4 DX5',\n",
       "       'DX1 DX2 DX3', 'DX1 DX4 DX5', 'DX1 DX2 DX4', 'DX1 DX2 DX5',\n",
       "       'DX2 DX4 DX5', 'DX2 DX3 DX5', nan, 'DX1 DX2 DX3 DX4',\n",
       "       'DX1 DX3 DX4 DX5', 'DX2 DX3 DX4 DX5', 'DX1 DX2 DX3 DX4 DX5'],\n",
       "      dtype=object)"
      ]
     },
     "execution_count": 10,
     "metadata": {},
     "output_type": "execute_result"
    }
   ],
   "source": [
    "# check the unique values of column\n",
    "pharma_data[\"Treated_with_drugs\"].unique()"
   ]
  },
  {
   "cell_type": "markdown",
   "id": "621eda08",
   "metadata": {},
   "source": [
    "###### ----------------------------------------------------------------------------------------------------------------------------------------------------------------------------------------------------------"
   ]
  },
  {
   "cell_type": "code",
   "execution_count": 11,
   "id": "ab3f7fd9",
   "metadata": {},
   "outputs": [
    {
     "data": {
      "text/plain": [
       "array(['NO', 'NO ', 'YES', 'YES ', 'YESS ', 'YESS', 'Cannot say ',\n",
       "       'Cannot say', 'CANNOT SAY ', 'CANNOT SAY'], dtype=object)"
      ]
     },
     "execution_count": 11,
     "metadata": {},
     "output_type": "execute_result"
    }
   ],
   "source": [
    "# check the unique values of column\n",
    "pharma_data[\"Patient_Smoker\"].unique()"
   ]
  },
  {
   "cell_type": "code",
   "execution_count": 12,
   "id": "7ae5d733",
   "metadata": {},
   "outputs": [],
   "source": [
    "# remove spaces at the beginning and end of the string and transform it to uppercase\n",
    "pharma_data['Patient_Smoker']=pharma_data['Patient_Smoker'].str.strip().str.upper().replace({'YESS': 'YES'})"
   ]
  },
  {
   "cell_type": "code",
   "execution_count": 13,
   "id": "2fa9ec82",
   "metadata": {},
   "outputs": [
    {
     "data": {
      "text/plain": [
       "array(['NO', 'YES', 'CANNOT SAY'], dtype=object)"
      ]
     },
     "execution_count": 13,
     "metadata": {},
     "output_type": "execute_result"
    }
   ],
   "source": [
    "# check the unique values of column\n",
    "pharma_data[\"Patient_Smoker\"].unique()"
   ]
  },
  {
   "cell_type": "markdown",
   "id": "736f9896",
   "metadata": {},
   "source": [
    "###### ----------------------------------------------------------------------------------------------------------------------------------------------------------------------------------------------------------"
   ]
  },
  {
   "cell_type": "code",
   "execution_count": 14,
   "id": "99ffb5ee",
   "metadata": {},
   "outputs": [
    {
     "data": {
      "text/plain": [
       "array(['URBAN', 'RURAL'], dtype=object)"
      ]
     },
     "execution_count": 14,
     "metadata": {},
     "output_type": "execute_result"
    }
   ],
   "source": [
    "# check the unique values of column\n",
    "pharma_data[\"Patient_Rural_Urban\"].unique()"
   ]
  },
  {
   "cell_type": "markdown",
   "id": "614ebaa6",
   "metadata": {},
   "source": [
    "###### ----------------------------------------------------------------------------------------------------------------------------------------------------------------------------------------------------------"
   ]
  },
  {
   "cell_type": "code",
   "execution_count": 15,
   "id": "22bec4f4",
   "metadata": {},
   "outputs": [
    {
     "data": {
      "text/plain": [
       "array(['Stable'], dtype=object)"
      ]
     },
     "execution_count": 15,
     "metadata": {},
     "output_type": "execute_result"
    }
   ],
   "source": [
    "# check the unique values of column\n",
    "pharma_data[\"Patient_mental_condition\"].unique()"
   ]
  },
  {
   "cell_type": "markdown",
   "id": "41c689b1",
   "metadata": {},
   "source": [
    "###### ----------------------------------------------------------------------------------------------------------------------------------------------------------------------------------------------------------"
   ]
  },
  {
   "cell_type": "code",
   "execution_count": 16,
   "id": "0a63b8b4",
   "metadata": {},
   "outputs": [
    {
     "data": {
      "text/plain": [
       "ID_Patient_Care_Situation       0\n",
       "Diagnosed_Condition             0\n",
       "Patient_ID                      0\n",
       "Treated_with_drugs              8\n",
       "Patient_Age                     0\n",
       "Patient_Body_Mass_Index         0\n",
       "Patient_Smoker                  0\n",
       "Patient_Rural_Urban             0\n",
       "Patient_mental_condition        0\n",
       "A                            1356\n",
       "B                            1356\n",
       "C                            1356\n",
       "D                            1356\n",
       "E                            1356\n",
       "F                            1356\n",
       "Z                            1356\n",
       "Number_of_prev_cond          1356\n",
       "Survived_1_year                 0\n",
       "dtype: int64"
      ]
     },
     "execution_count": 16,
     "metadata": {},
     "output_type": "execute_result"
    }
   ],
   "source": [
    "# check null value counts of each column\n",
    "pharma_data.isnull().sum()"
   ]
  },
  {
   "cell_type": "code",
   "execution_count": 17,
   "id": "eee2f82c",
   "metadata": {},
   "outputs": [
    {
     "data": {
      "text/plain": [
       "ID_Patient_Care_Situation      int64\n",
       "Diagnosed_Condition            int64\n",
       "Patient_ID                     int64\n",
       "Treated_with_drugs            object\n",
       "Patient_Age                    int64\n",
       "Patient_Body_Mass_Index      float64\n",
       "Patient_Smoker                object\n",
       "Patient_Rural_Urban           object\n",
       "Patient_mental_condition      object\n",
       "A                            float64\n",
       "B                            float64\n",
       "C                            float64\n",
       "D                            float64\n",
       "E                            float64\n",
       "F                            float64\n",
       "Z                            float64\n",
       "Number_of_prev_cond          float64\n",
       "Survived_1_year                int64\n",
       "dtype: object"
      ]
     },
     "execution_count": 17,
     "metadata": {},
     "output_type": "execute_result"
    }
   ],
   "source": [
    "# check data type of each column\n",
    "pharma_data.dtypes"
   ]
  },
  {
   "cell_type": "markdown",
   "id": "25cb0570",
   "metadata": {},
   "source": [
    "# Drop Duplicate Values"
   ]
  },
  {
   "cell_type": "code",
   "execution_count": 18,
   "id": "1ab819aa",
   "metadata": {
    "scrolled": true
   },
   "outputs": [
    {
     "data": {
      "text/plain": [
       "1982"
      ]
     },
     "execution_count": 18,
     "metadata": {},
     "output_type": "execute_result"
    }
   ],
   "source": [
    "pharma_data.duplicated().sum()"
   ]
  },
  {
   "cell_type": "code",
   "execution_count": 19,
   "id": "2e4ab627",
   "metadata": {},
   "outputs": [
    {
     "data": {
      "text/plain": [
       "(25079, 18)"
      ]
     },
     "execution_count": 19,
     "metadata": {},
     "output_type": "execute_result"
    }
   ],
   "source": [
    "pharma_data.shape"
   ]
  },
  {
   "cell_type": "code",
   "execution_count": 20,
   "id": "1157fefb",
   "metadata": {},
   "outputs": [
    {
     "data": {
      "text/plain": [
       "(23097, 18)"
      ]
     },
     "execution_count": 20,
     "metadata": {},
     "output_type": "execute_result"
    }
   ],
   "source": [
    "pharma_data.drop_duplicates(inplace=True)\n",
    "pharma_data.shape"
   ]
  },
  {
   "cell_type": "markdown",
   "id": "94b43e04",
   "metadata": {},
   "source": [
    "###### ----------------------------------------------------------------------------------------------------------------------------------------------------------------------------------------------------------"
   ]
  },
  {
   "cell_type": "code",
   "execution_count": 21,
   "id": "b2659b38",
   "metadata": {},
   "outputs": [
    {
     "data": {
      "text/plain": [
       "ID_Patient_Care_Situation       0\n",
       "Diagnosed_Condition             0\n",
       "Patient_ID                      0\n",
       "Treated_with_drugs              8\n",
       "Patient_Age                     0\n",
       "Patient_Body_Mass_Index         0\n",
       "Patient_Smoker                  0\n",
       "Patient_Rural_Urban             0\n",
       "Patient_mental_condition        0\n",
       "A                            1267\n",
       "B                            1267\n",
       "C                            1267\n",
       "D                            1267\n",
       "E                            1267\n",
       "F                            1267\n",
       "Z                            1267\n",
       "Number_of_prev_cond          1267\n",
       "Survived_1_year                 0\n",
       "dtype: int64"
      ]
     },
     "execution_count": 21,
     "metadata": {},
     "output_type": "execute_result"
    }
   ],
   "source": [
    "# check null value counts of each column\n",
    "pharma_data.isnull().sum()"
   ]
  },
  {
   "cell_type": "markdown",
   "id": "96f614b5",
   "metadata": {},
   "source": [
    "#### Filling Missing Values"
   ]
  },
  {
   "cell_type": "code",
   "execution_count": 22,
   "id": "09fde1dc",
   "metadata": {},
   "outputs": [
    {
     "data": {
      "text/plain": [
       "DX6                    8637\n",
       "DX5                    1921\n",
       "DX2                    1901\n",
       "DX4                    1857\n",
       "DX1                    1828\n",
       "DX3                    1808\n",
       "DX1 DX2                 424\n",
       "DX2 DX4                 420\n",
       "DX2 DX3                 420\n",
       "DX3 DX4                 415\n",
       "DX3 DX5                 414\n",
       "DX4 DX5                 409\n",
       "DX2 DX5                 406\n",
       "DX1 DX5                 406\n",
       "DX1 DX4                 398\n",
       "DX1 DX3                 397\n",
       "DX1 DX2 DX4             100\n",
       "DX1 DX3 DX4             100\n",
       "DX1 DX2 DX5              98\n",
       "DX2 DX3 DX5              96\n",
       "DX3 DX4 DX5              96\n",
       "DX2 DX3 DX4              95\n",
       "DX1 DX3 DX5              91\n",
       "DX1 DX4 DX5              87\n",
       "DX1 DX2 DX3              86\n",
       "DX2 DX4 DX5              83\n",
       "DX1 DX2 DX3 DX4          23\n",
       "DX1 DX3 DX4 DX5          21\n",
       "DX1 DX2 DX4 DX5          19\n",
       "DX2 DX3 DX4 DX5          18\n",
       "DX1 DX2 DX3 DX5          12\n",
       "DX1 DX2 DX3 DX4 DX5       3\n",
       "Name: Treated_with_drugs, dtype: int64"
      ]
     },
     "execution_count": 22,
     "metadata": {},
     "output_type": "execute_result"
    }
   ],
   "source": [
    "# count all values of the selected column\n",
    "pharma_data[\"Treated_with_drugs\"].value_counts()"
   ]
  },
  {
   "cell_type": "code",
   "execution_count": 23,
   "id": "3eceb826",
   "metadata": {},
   "outputs": [
    {
     "name": "stdout",
     "output_type": "stream",
     "text": [
      "DX6\n"
     ]
    }
   ],
   "source": [
    "# print the most frequently occurring value of the column\n",
    "print(pharma_data[\"Treated_with_drugs\"].mode()[0])\n",
    "# replace null values with mode\n",
    "pharma_data.loc[:, ('Treated_with_drugs')].replace(np.nan, pharma_data[\"Treated_with_drugs\"].mode()[0], inplace=True )"
   ]
  },
  {
   "cell_type": "markdown",
   "id": "6e22bef4",
   "metadata": {},
   "source": [
    "##### since DX6 is most used vaccine to cure patient we will fill the missing values present in 'Treated_with_drugs'  with DX6"
   ]
  },
  {
   "cell_type": "code",
   "execution_count": 24,
   "id": "8fc7965f",
   "metadata": {},
   "outputs": [
    {
     "data": {
      "text/plain": [
       "ID_Patient_Care_Situation       0\n",
       "Diagnosed_Condition             0\n",
       "Patient_ID                      0\n",
       "Treated_with_drugs              0\n",
       "Patient_Age                     0\n",
       "Patient_Body_Mass_Index         0\n",
       "Patient_Smoker                  0\n",
       "Patient_Rural_Urban             0\n",
       "Patient_mental_condition        0\n",
       "A                            1267\n",
       "B                            1267\n",
       "C                            1267\n",
       "D                            1267\n",
       "E                            1267\n",
       "F                            1267\n",
       "Z                            1267\n",
       "Number_of_prev_cond          1267\n",
       "Survived_1_year                 0\n",
       "dtype: int64"
      ]
     },
     "execution_count": 24,
     "metadata": {},
     "output_type": "execute_result"
    }
   ],
   "source": [
    "pharma_data.isnull().sum()"
   ]
  },
  {
   "cell_type": "code",
   "execution_count": 25,
   "id": "306dd543",
   "metadata": {},
   "outputs": [
    {
     "data": {
      "text/plain": [
       "(23097, 18)"
      ]
     },
     "execution_count": 25,
     "metadata": {},
     "output_type": "execute_result"
    }
   ],
   "source": [
    "pharma_data.shape"
   ]
  },
  {
   "cell_type": "markdown",
   "id": "2bc11c21",
   "metadata": {},
   "source": [
    "###### ----------------------------------------------------------------------------------------------------------------------------------------------------------------------------------------------------------"
   ]
  },
  {
   "cell_type": "code",
   "execution_count": 26,
   "id": "9142203f",
   "metadata": {},
   "outputs": [
    {
     "name": "stdout",
     "output_type": "stream",
     "text": [
      "patient who have symptoms of \"A\" : \n",
      "1.0    19534\n",
      "0.0     2296\n",
      "Name: A, dtype: int64\n",
      "\n",
      "patient who have symptoms of \"B\" : \n",
      "0.0    18836\n",
      "1.0     2994\n",
      "Name: B, dtype: int64\n",
      "\n",
      "patient who have symptoms of \"C\" : \n",
      "0.0    17825\n",
      "1.0     4005\n",
      "Name: C, dtype: int64\n",
      "\n",
      "patient who have symptoms of \"D\" : \n",
      "0.0    20007\n",
      "1.0     1823\n",
      "Name: D, dtype: int64\n",
      "\n",
      "patient who have symptoms of \"E\" : \n",
      "0.0    13185\n",
      "1.0     8645\n",
      "Name: E, dtype: int64\n",
      "\n",
      "patient who have symptoms of \"F\" : \n",
      "0.0    20649\n",
      "1.0     1181\n",
      "Name: F, dtype: int64\n",
      "\n",
      "patient who have symptoms of \"Z\" : \n",
      "0.0    21822\n",
      "1.0        8\n",
      "Name: Z, dtype: int64\n"
     ]
    }
   ],
   "source": [
    "print('patient who have symptoms of \"A\" : ')\n",
    "print(pharma_data[\"A\"].value_counts())\n",
    "print()\n",
    "print('patient who have symptoms of \"B\" : ')\n",
    "print(pharma_data[\"B\"].value_counts())\n",
    "print()\n",
    "print('patient who have symptoms of \"C\" : ')\n",
    "print(pharma_data[\"C\"].value_counts())\n",
    "print()\n",
    "print('patient who have symptoms of \"D\" : ')\n",
    "print(pharma_data[\"D\"].value_counts())\n",
    "print()\n",
    "print('patient who have symptoms of \"E\" : ')\n",
    "print(pharma_data[\"E\"].value_counts())\n",
    "print()\n",
    "print('patient who have symptoms of \"F\" : ')\n",
    "print(pharma_data[\"F\"].value_counts())\n",
    "print()\n",
    "print('patient who have symptoms of \"Z\" : ')\n",
    "print(pharma_data[\"Z\"].value_counts())"
   ]
  },
  {
   "cell_type": "code",
   "execution_count": 27,
   "id": "22de4759",
   "metadata": {
    "scrolled": true
   },
   "outputs": [
    {
     "data": {
      "text/plain": [
       "1.0    9409\n",
       "2.0    8947\n",
       "3.0    3044\n",
       "4.0     395\n",
       "5.0      35\n",
       "Name: Number_of_prev_cond, dtype: int64"
      ]
     },
     "execution_count": 27,
     "metadata": {},
     "output_type": "execute_result"
    }
   ],
   "source": [
    "pharma_data[\"Number_of_prev_cond\"].value_counts()"
   ]
  },
  {
   "cell_type": "code",
   "execution_count": 28,
   "id": "917efca9",
   "metadata": {},
   "outputs": [],
   "source": [
    "# replace null values with mode\n",
    "pharma_data.loc[:, ('A')].replace(np.nan, pharma_data[\"A\"].mode()[0], inplace=True )\n",
    "pharma_data.loc[:, ('B')].replace(np.nan, pharma_data[\"B\"].mode()[0], inplace=True )\n",
    "pharma_data.loc[:, ('C')].replace(np.nan, pharma_data[\"C\"].mode()[0], inplace=True )\n",
    "pharma_data.loc[:, ('D')].replace(np.nan, pharma_data[\"D\"].mode()[0], inplace=True )\n",
    "pharma_data.loc[:, ('E')].replace(np.nan, pharma_data[\"E\"].mode()[0], inplace=True )\n",
    "pharma_data.loc[:, ('F')].replace(np.nan, pharma_data[\"F\"].mode()[0], inplace=True )\n",
    "pharma_data.loc[:, ('Z')].replace(np.nan, pharma_data[\"Z\"].mode()[0], inplace=True )"
   ]
  },
  {
   "cell_type": "code",
   "execution_count": 29,
   "id": "9c34b2c7",
   "metadata": {},
   "outputs": [
    {
     "data": {
      "text/plain": [
       "ID_Patient_Care_Situation       0\n",
       "Diagnosed_Condition             0\n",
       "Patient_ID                      0\n",
       "Treated_with_drugs              0\n",
       "Patient_Age                     0\n",
       "Patient_Body_Mass_Index         0\n",
       "Patient_Smoker                  0\n",
       "Patient_Rural_Urban             0\n",
       "Patient_mental_condition        0\n",
       "A                               0\n",
       "B                               0\n",
       "C                               0\n",
       "D                               0\n",
       "E                               0\n",
       "F                               0\n",
       "Z                               0\n",
       "Number_of_prev_cond          1267\n",
       "Survived_1_year                 0\n",
       "dtype: int64"
      ]
     },
     "execution_count": 29,
     "metadata": {},
     "output_type": "execute_result"
    }
   ],
   "source": [
    "pharma_data.isnull().sum()"
   ]
  },
  {
   "cell_type": "code",
   "execution_count": 30,
   "id": "db9f96e5",
   "metadata": {},
   "outputs": [
    {
     "data": {
      "text/html": [
       "<div>\n",
       "<style scoped>\n",
       "    .dataframe tbody tr th:only-of-type {\n",
       "        vertical-align: middle;\n",
       "    }\n",
       "\n",
       "    .dataframe tbody tr th {\n",
       "        vertical-align: top;\n",
       "    }\n",
       "\n",
       "    .dataframe thead th {\n",
       "        text-align: right;\n",
       "    }\n",
       "</style>\n",
       "<table border=\"1\" class=\"dataframe\">\n",
       "  <thead>\n",
       "    <tr style=\"text-align: right;\">\n",
       "      <th></th>\n",
       "      <th>ID_Patient_Care_Situation</th>\n",
       "      <th>Diagnosed_Condition</th>\n",
       "      <th>Patient_ID</th>\n",
       "      <th>Treated_with_drugs</th>\n",
       "      <th>Patient_Age</th>\n",
       "      <th>Patient_Body_Mass_Index</th>\n",
       "      <th>Patient_Smoker</th>\n",
       "      <th>Patient_Rural_Urban</th>\n",
       "      <th>Patient_mental_condition</th>\n",
       "      <th>A</th>\n",
       "      <th>B</th>\n",
       "      <th>C</th>\n",
       "      <th>D</th>\n",
       "      <th>E</th>\n",
       "      <th>F</th>\n",
       "      <th>Z</th>\n",
       "      <th>Number_of_prev_cond</th>\n",
       "      <th>Survived_1_year</th>\n",
       "    </tr>\n",
       "  </thead>\n",
       "  <tbody>\n",
       "    <tr>\n",
       "      <th>0</th>\n",
       "      <td>16201</td>\n",
       "      <td>47</td>\n",
       "      <td>8433</td>\n",
       "      <td>DX2</td>\n",
       "      <td>60</td>\n",
       "      <td>21.655523</td>\n",
       "      <td>NO</td>\n",
       "      <td>URBAN</td>\n",
       "      <td>Stable</td>\n",
       "      <td>1.0</td>\n",
       "      <td>0.0</td>\n",
       "      <td>0.0</td>\n",
       "      <td>0.0</td>\n",
       "      <td>1.0</td>\n",
       "      <td>0.0</td>\n",
       "      <td>0.0</td>\n",
       "      <td>2.0</td>\n",
       "      <td>1</td>\n",
       "    </tr>\n",
       "    <tr>\n",
       "      <th>1</th>\n",
       "      <td>9421</td>\n",
       "      <td>3</td>\n",
       "      <td>2972</td>\n",
       "      <td>DX6</td>\n",
       "      <td>2</td>\n",
       "      <td>28.852743</td>\n",
       "      <td>NO</td>\n",
       "      <td>RURAL</td>\n",
       "      <td>Stable</td>\n",
       "      <td>1.0</td>\n",
       "      <td>0.0</td>\n",
       "      <td>1.0</td>\n",
       "      <td>0.0</td>\n",
       "      <td>1.0</td>\n",
       "      <td>0.0</td>\n",
       "      <td>0.0</td>\n",
       "      <td>3.0</td>\n",
       "      <td>0</td>\n",
       "    </tr>\n",
       "    <tr>\n",
       "      <th>2</th>\n",
       "      <td>16205</td>\n",
       "      <td>7</td>\n",
       "      <td>8608</td>\n",
       "      <td>DX6</td>\n",
       "      <td>20</td>\n",
       "      <td>26.179725</td>\n",
       "      <td>NO</td>\n",
       "      <td>RURAL</td>\n",
       "      <td>Stable</td>\n",
       "      <td>1.0</td>\n",
       "      <td>0.0</td>\n",
       "      <td>0.0</td>\n",
       "      <td>0.0</td>\n",
       "      <td>1.0</td>\n",
       "      <td>0.0</td>\n",
       "      <td>0.0</td>\n",
       "      <td>2.0</td>\n",
       "      <td>1</td>\n",
       "    </tr>\n",
       "    <tr>\n",
       "      <th>3</th>\n",
       "      <td>5582</td>\n",
       "      <td>31</td>\n",
       "      <td>10074</td>\n",
       "      <td>DX6</td>\n",
       "      <td>8</td>\n",
       "      <td>22.638945</td>\n",
       "      <td>NO</td>\n",
       "      <td>RURAL</td>\n",
       "      <td>Stable</td>\n",
       "      <td>1.0</td>\n",
       "      <td>0.0</td>\n",
       "      <td>0.0</td>\n",
       "      <td>0.0</td>\n",
       "      <td>1.0</td>\n",
       "      <td>0.0</td>\n",
       "      <td>0.0</td>\n",
       "      <td>2.0</td>\n",
       "      <td>0</td>\n",
       "    </tr>\n",
       "    <tr>\n",
       "      <th>4</th>\n",
       "      <td>20880</td>\n",
       "      <td>43</td>\n",
       "      <td>7462</td>\n",
       "      <td>DX1</td>\n",
       "      <td>53</td>\n",
       "      <td>21.326131</td>\n",
       "      <td>NO</td>\n",
       "      <td>RURAL</td>\n",
       "      <td>Stable</td>\n",
       "      <td>1.0</td>\n",
       "      <td>0.0</td>\n",
       "      <td>0.0</td>\n",
       "      <td>0.0</td>\n",
       "      <td>0.0</td>\n",
       "      <td>0.0</td>\n",
       "      <td>0.0</td>\n",
       "      <td>1.0</td>\n",
       "      <td>1</td>\n",
       "    </tr>\n",
       "    <tr>\n",
       "      <th>5</th>\n",
       "      <td>7895</td>\n",
       "      <td>51</td>\n",
       "      <td>848</td>\n",
       "      <td>DX1 DX3 DX4</td>\n",
       "      <td>20</td>\n",
       "      <td>23.438528</td>\n",
       "      <td>NO</td>\n",
       "      <td>RURAL</td>\n",
       "      <td>Stable</td>\n",
       "      <td>1.0</td>\n",
       "      <td>0.0</td>\n",
       "      <td>0.0</td>\n",
       "      <td>0.0</td>\n",
       "      <td>1.0</td>\n",
       "      <td>0.0</td>\n",
       "      <td>0.0</td>\n",
       "      <td>2.0</td>\n",
       "      <td>1</td>\n",
       "    </tr>\n",
       "    <tr>\n",
       "      <th>6</th>\n",
       "      <td>17785</td>\n",
       "      <td>49</td>\n",
       "      <td>6663</td>\n",
       "      <td>DX5</td>\n",
       "      <td>5</td>\n",
       "      <td>23.882432</td>\n",
       "      <td>NO</td>\n",
       "      <td>RURAL</td>\n",
       "      <td>Stable</td>\n",
       "      <td>1.0</td>\n",
       "      <td>0.0</td>\n",
       "      <td>1.0</td>\n",
       "      <td>0.0</td>\n",
       "      <td>0.0</td>\n",
       "      <td>0.0</td>\n",
       "      <td>0.0</td>\n",
       "      <td>2.0</td>\n",
       "      <td>1</td>\n",
       "    </tr>\n",
       "    <tr>\n",
       "      <th>7</th>\n",
       "      <td>343</td>\n",
       "      <td>35</td>\n",
       "      <td>248</td>\n",
       "      <td>DX2</td>\n",
       "      <td>45</td>\n",
       "      <td>17.059734</td>\n",
       "      <td>NO</td>\n",
       "      <td>URBAN</td>\n",
       "      <td>Stable</td>\n",
       "      <td>1.0</td>\n",
       "      <td>0.0</td>\n",
       "      <td>0.0</td>\n",
       "      <td>0.0</td>\n",
       "      <td>0.0</td>\n",
       "      <td>0.0</td>\n",
       "      <td>0.0</td>\n",
       "      <td>1.0</td>\n",
       "      <td>1</td>\n",
       "    </tr>\n",
       "    <tr>\n",
       "      <th>8</th>\n",
       "      <td>11729</td>\n",
       "      <td>36</td>\n",
       "      <td>8098</td>\n",
       "      <td>DX6</td>\n",
       "      <td>43</td>\n",
       "      <td>22.182933</td>\n",
       "      <td>YES</td>\n",
       "      <td>RURAL</td>\n",
       "      <td>Stable</td>\n",
       "      <td>1.0</td>\n",
       "      <td>0.0</td>\n",
       "      <td>0.0</td>\n",
       "      <td>1.0</td>\n",
       "      <td>0.0</td>\n",
       "      <td>0.0</td>\n",
       "      <td>0.0</td>\n",
       "      <td>2.0</td>\n",
       "      <td>0</td>\n",
       "    </tr>\n",
       "    <tr>\n",
       "      <th>9</th>\n",
       "      <td>15319</td>\n",
       "      <td>15</td>\n",
       "      <td>10018</td>\n",
       "      <td>DX6</td>\n",
       "      <td>60</td>\n",
       "      <td>17.956259</td>\n",
       "      <td>NO</td>\n",
       "      <td>RURAL</td>\n",
       "      <td>Stable</td>\n",
       "      <td>1.0</td>\n",
       "      <td>1.0</td>\n",
       "      <td>1.0</td>\n",
       "      <td>0.0</td>\n",
       "      <td>0.0</td>\n",
       "      <td>0.0</td>\n",
       "      <td>0.0</td>\n",
       "      <td>3.0</td>\n",
       "      <td>0</td>\n",
       "    </tr>\n",
       "  </tbody>\n",
       "</table>\n",
       "</div>"
      ],
      "text/plain": [
       "   ID_Patient_Care_Situation  Diagnosed_Condition  Patient_ID  \\\n",
       "0                      16201                   47        8433   \n",
       "1                       9421                    3        2972   \n",
       "2                      16205                    7        8608   \n",
       "3                       5582                   31       10074   \n",
       "4                      20880                   43        7462   \n",
       "5                       7895                   51         848   \n",
       "6                      17785                   49        6663   \n",
       "7                        343                   35         248   \n",
       "8                      11729                   36        8098   \n",
       "9                      15319                   15       10018   \n",
       "\n",
       "  Treated_with_drugs  Patient_Age  Patient_Body_Mass_Index Patient_Smoker  \\\n",
       "0                DX2           60                21.655523             NO   \n",
       "1                DX6            2                28.852743             NO   \n",
       "2                DX6           20                26.179725             NO   \n",
       "3                DX6            8                22.638945             NO   \n",
       "4                DX1           53                21.326131             NO   \n",
       "5        DX1 DX3 DX4           20                23.438528             NO   \n",
       "6                DX5            5                23.882432             NO   \n",
       "7                DX2           45                17.059734             NO   \n",
       "8                DX6           43                22.182933            YES   \n",
       "9                DX6           60                17.956259             NO   \n",
       "\n",
       "  Patient_Rural_Urban Patient_mental_condition    A    B    C    D    E    F  \\\n",
       "0               URBAN                   Stable  1.0  0.0  0.0  0.0  1.0  0.0   \n",
       "1               RURAL                   Stable  1.0  0.0  1.0  0.0  1.0  0.0   \n",
       "2               RURAL                   Stable  1.0  0.0  0.0  0.0  1.0  0.0   \n",
       "3               RURAL                   Stable  1.0  0.0  0.0  0.0  1.0  0.0   \n",
       "4               RURAL                   Stable  1.0  0.0  0.0  0.0  0.0  0.0   \n",
       "5               RURAL                   Stable  1.0  0.0  0.0  0.0  1.0  0.0   \n",
       "6               RURAL                   Stable  1.0  0.0  1.0  0.0  0.0  0.0   \n",
       "7               URBAN                   Stable  1.0  0.0  0.0  0.0  0.0  0.0   \n",
       "8               RURAL                   Stable  1.0  0.0  0.0  1.0  0.0  0.0   \n",
       "9               RURAL                   Stable  1.0  1.0  1.0  0.0  0.0  0.0   \n",
       "\n",
       "     Z  Number_of_prev_cond  Survived_1_year  \n",
       "0  0.0                  2.0                1  \n",
       "1  0.0                  3.0                0  \n",
       "2  0.0                  2.0                1  \n",
       "3  0.0                  2.0                0  \n",
       "4  0.0                  1.0                1  \n",
       "5  0.0                  2.0                1  \n",
       "6  0.0                  2.0                1  \n",
       "7  0.0                  1.0                1  \n",
       "8  0.0                  2.0                0  \n",
       "9  0.0                  3.0                0  "
      ]
     },
     "execution_count": 30,
     "metadata": {},
     "output_type": "execute_result"
    }
   ],
   "source": [
    "# Calculating the sum of previous condition columns\n",
    "prev_cond_columns = ['A', 'B', 'C', 'D', 'E', 'F', 'Z']\n",
    "pharma_data[\"Number_of_prev_cond\"] = pharma_data[prev_cond_columns].sum(axis=1)\n",
    "pharma_data.head(10)\n"
   ]
  },
  {
   "cell_type": "code",
   "execution_count": 31,
   "id": "0726ae3e",
   "metadata": {},
   "outputs": [
    {
     "data": {
      "text/plain": [
       "ID_Patient_Care_Situation    0\n",
       "Diagnosed_Condition          0\n",
       "Patient_ID                   0\n",
       "Treated_with_drugs           0\n",
       "Patient_Age                  0\n",
       "Patient_Body_Mass_Index      0\n",
       "Patient_Smoker               0\n",
       "Patient_Rural_Urban          0\n",
       "Patient_mental_condition     0\n",
       "A                            0\n",
       "B                            0\n",
       "C                            0\n",
       "D                            0\n",
       "E                            0\n",
       "F                            0\n",
       "Z                            0\n",
       "Number_of_prev_cond          0\n",
       "Survived_1_year              0\n",
       "dtype: int64"
      ]
     },
     "execution_count": 31,
     "metadata": {},
     "output_type": "execute_result"
    }
   ],
   "source": [
    "pharma_data.isnull().sum()"
   ]
  },
  {
   "cell_type": "markdown",
   "id": "f69ca0bd",
   "metadata": {},
   "source": [
    "###### ----------------------------------------------------------------------------------------------------------------------------------------------------------------------------------------------------------"
   ]
  },
  {
   "cell_type": "code",
   "execution_count": 32,
   "id": "1a99dce7",
   "metadata": {},
   "outputs": [
    {
     "data": {
      "text/plain": [
       "array([ 60,   2,  20,   8,  53,   5,  45,  43,  21,  66,  37,  18,  15,\n",
       "        39,  48,  32,  58,  25,   3,  14,   0,  57,  62,   1,  16,  44,\n",
       "        42,  40,  27,  29,  12,  50,  36,  33,  28,  13,  17,  22,  31,\n",
       "        63,  61,  35,  38,  23,   6,  26,  59,  65,  64,  51,   9,  30,\n",
       "         4,  24,  46,  19,  55,  56,  49,  54,  52,  41,  11,   7,  10,\n",
       "        34,  47, 135, 112, 142, 132, 121, 125, 123], dtype=int64)"
      ]
     },
     "execution_count": 32,
     "metadata": {},
     "output_type": "execute_result"
    }
   ],
   "source": [
    "# check the unique values of column\n",
    "pharma_data[\"Patient_Age\"].unique()"
   ]
  },
  {
   "cell_type": "code",
   "execution_count": 33,
   "id": "06442fed",
   "metadata": {},
   "outputs": [
    {
     "data": {
      "text/plain": [
       "(385, 18)"
      ]
     },
     "execution_count": 33,
     "metadata": {},
     "output_type": "execute_result"
    }
   ],
   "source": [
    "# display the rows has a patient age of 0\n",
    "pharma_data[pharma_data[\"Patient_Age\"] == 0].shape"
   ]
  },
  {
   "cell_type": "code",
   "execution_count": 34,
   "id": "b4df9a06",
   "metadata": {},
   "outputs": [
    {
     "data": {
      "text/plain": [
       "31"
      ]
     },
     "execution_count": 34,
     "metadata": {},
     "output_type": "execute_result"
    }
   ],
   "source": [
    "# Calculating the mode of the 'Age' column\n",
    "age_mode = pharma_data[\"Patient_Age\"].mode()[0]\n",
    "age_mode"
   ]
  },
  {
   "cell_type": "code",
   "execution_count": 35,
   "id": "fff30755",
   "metadata": {},
   "outputs": [],
   "source": [
    "# Filling zero values in the 'Age' column with the mode\n",
    "pharma_data[\"Patient_Age\"].replace(0, age_mode, inplace=True)"
   ]
  },
  {
   "cell_type": "code",
   "execution_count": 36,
   "id": "2abe47a8",
   "metadata": {},
   "outputs": [
    {
     "data": {
      "text/plain": [
       "(0, 18)"
      ]
     },
     "execution_count": 36,
     "metadata": {},
     "output_type": "execute_result"
    }
   ],
   "source": [
    "# display the rows has a patient age of 0\n",
    "pharma_data[pharma_data[\"Patient_Age\"] == 0].shape"
   ]
  },
  {
   "cell_type": "code",
   "execution_count": 37,
   "id": "9e047327",
   "metadata": {},
   "outputs": [
    {
     "data": {
      "text/html": [
       "<div>\n",
       "<style scoped>\n",
       "    .dataframe tbody tr th:only-of-type {\n",
       "        vertical-align: middle;\n",
       "    }\n",
       "\n",
       "    .dataframe tbody tr th {\n",
       "        vertical-align: top;\n",
       "    }\n",
       "\n",
       "    .dataframe thead th {\n",
       "        text-align: right;\n",
       "    }\n",
       "</style>\n",
       "<table border=\"1\" class=\"dataframe\">\n",
       "  <thead>\n",
       "    <tr style=\"text-align: right;\">\n",
       "      <th></th>\n",
       "      <th>ID_Patient_Care_Situation</th>\n",
       "      <th>Diagnosed_Condition</th>\n",
       "      <th>Patient_ID</th>\n",
       "      <th>Treated_with_drugs</th>\n",
       "      <th>Patient_Age</th>\n",
       "      <th>Patient_Body_Mass_Index</th>\n",
       "      <th>Patient_Smoker</th>\n",
       "      <th>Patient_Rural_Urban</th>\n",
       "      <th>Patient_mental_condition</th>\n",
       "      <th>A</th>\n",
       "      <th>B</th>\n",
       "      <th>C</th>\n",
       "      <th>D</th>\n",
       "      <th>E</th>\n",
       "      <th>F</th>\n",
       "      <th>Z</th>\n",
       "      <th>Number_of_prev_cond</th>\n",
       "      <th>Survived_1_year</th>\n",
       "    </tr>\n",
       "  </thead>\n",
       "  <tbody>\n",
       "    <tr>\n",
       "      <th>0</th>\n",
       "      <td>16201</td>\n",
       "      <td>47</td>\n",
       "      <td>8433</td>\n",
       "      <td>DX2</td>\n",
       "      <td>60</td>\n",
       "      <td>21.655523</td>\n",
       "      <td>NO</td>\n",
       "      <td>URBAN</td>\n",
       "      <td>Stable</td>\n",
       "      <td>1.0</td>\n",
       "      <td>0.0</td>\n",
       "      <td>0.0</td>\n",
       "      <td>0.0</td>\n",
       "      <td>1.0</td>\n",
       "      <td>0.0</td>\n",
       "      <td>0.0</td>\n",
       "      <td>2.0</td>\n",
       "      <td>1</td>\n",
       "    </tr>\n",
       "    <tr>\n",
       "      <th>1</th>\n",
       "      <td>9421</td>\n",
       "      <td>3</td>\n",
       "      <td>2972</td>\n",
       "      <td>DX6</td>\n",
       "      <td>2</td>\n",
       "      <td>28.852743</td>\n",
       "      <td>NO</td>\n",
       "      <td>RURAL</td>\n",
       "      <td>Stable</td>\n",
       "      <td>1.0</td>\n",
       "      <td>0.0</td>\n",
       "      <td>1.0</td>\n",
       "      <td>0.0</td>\n",
       "      <td>1.0</td>\n",
       "      <td>0.0</td>\n",
       "      <td>0.0</td>\n",
       "      <td>3.0</td>\n",
       "      <td>0</td>\n",
       "    </tr>\n",
       "    <tr>\n",
       "      <th>2</th>\n",
       "      <td>16205</td>\n",
       "      <td>7</td>\n",
       "      <td>8608</td>\n",
       "      <td>DX6</td>\n",
       "      <td>20</td>\n",
       "      <td>26.179725</td>\n",
       "      <td>NO</td>\n",
       "      <td>RURAL</td>\n",
       "      <td>Stable</td>\n",
       "      <td>1.0</td>\n",
       "      <td>0.0</td>\n",
       "      <td>0.0</td>\n",
       "      <td>0.0</td>\n",
       "      <td>1.0</td>\n",
       "      <td>0.0</td>\n",
       "      <td>0.0</td>\n",
       "      <td>2.0</td>\n",
       "      <td>1</td>\n",
       "    </tr>\n",
       "    <tr>\n",
       "      <th>3</th>\n",
       "      <td>5582</td>\n",
       "      <td>31</td>\n",
       "      <td>10074</td>\n",
       "      <td>DX6</td>\n",
       "      <td>8</td>\n",
       "      <td>22.638945</td>\n",
       "      <td>NO</td>\n",
       "      <td>RURAL</td>\n",
       "      <td>Stable</td>\n",
       "      <td>1.0</td>\n",
       "      <td>0.0</td>\n",
       "      <td>0.0</td>\n",
       "      <td>0.0</td>\n",
       "      <td>1.0</td>\n",
       "      <td>0.0</td>\n",
       "      <td>0.0</td>\n",
       "      <td>2.0</td>\n",
       "      <td>0</td>\n",
       "    </tr>\n",
       "    <tr>\n",
       "      <th>4</th>\n",
       "      <td>20880</td>\n",
       "      <td>43</td>\n",
       "      <td>7462</td>\n",
       "      <td>DX1</td>\n",
       "      <td>53</td>\n",
       "      <td>21.326131</td>\n",
       "      <td>NO</td>\n",
       "      <td>RURAL</td>\n",
       "      <td>Stable</td>\n",
       "      <td>1.0</td>\n",
       "      <td>0.0</td>\n",
       "      <td>0.0</td>\n",
       "      <td>0.0</td>\n",
       "      <td>0.0</td>\n",
       "      <td>0.0</td>\n",
       "      <td>0.0</td>\n",
       "      <td>1.0</td>\n",
       "      <td>1</td>\n",
       "    </tr>\n",
       "    <tr>\n",
       "      <th>...</th>\n",
       "      <td>...</td>\n",
       "      <td>...</td>\n",
       "      <td>...</td>\n",
       "      <td>...</td>\n",
       "      <td>...</td>\n",
       "      <td>...</td>\n",
       "      <td>...</td>\n",
       "      <td>...</td>\n",
       "      <td>...</td>\n",
       "      <td>...</td>\n",
       "      <td>...</td>\n",
       "      <td>...</td>\n",
       "      <td>...</td>\n",
       "      <td>...</td>\n",
       "      <td>...</td>\n",
       "      <td>...</td>\n",
       "      <td>...</td>\n",
       "      <td>...</td>\n",
       "    </tr>\n",
       "    <tr>\n",
       "      <th>23092</th>\n",
       "      <td>17738</td>\n",
       "      <td>24</td>\n",
       "      <td>136</td>\n",
       "      <td>DX6</td>\n",
       "      <td>28</td>\n",
       "      <td>20.549522</td>\n",
       "      <td>NO</td>\n",
       "      <td>URBAN</td>\n",
       "      <td>Stable</td>\n",
       "      <td>1.0</td>\n",
       "      <td>0.0</td>\n",
       "      <td>0.0</td>\n",
       "      <td>0.0</td>\n",
       "      <td>0.0</td>\n",
       "      <td>0.0</td>\n",
       "      <td>0.0</td>\n",
       "      <td>1.0</td>\n",
       "      <td>1</td>\n",
       "    </tr>\n",
       "    <tr>\n",
       "      <th>23093</th>\n",
       "      <td>23398</td>\n",
       "      <td>17</td>\n",
       "      <td>697</td>\n",
       "      <td>DX6</td>\n",
       "      <td>60</td>\n",
       "      <td>25.495394</td>\n",
       "      <td>YES</td>\n",
       "      <td>RURAL</td>\n",
       "      <td>Stable</td>\n",
       "      <td>1.0</td>\n",
       "      <td>1.0</td>\n",
       "      <td>0.0</td>\n",
       "      <td>0.0</td>\n",
       "      <td>0.0</td>\n",
       "      <td>0.0</td>\n",
       "      <td>0.0</td>\n",
       "      <td>2.0</td>\n",
       "      <td>0</td>\n",
       "    </tr>\n",
       "    <tr>\n",
       "      <th>23094</th>\n",
       "      <td>22526</td>\n",
       "      <td>33</td>\n",
       "      <td>9007</td>\n",
       "      <td>DX4</td>\n",
       "      <td>6</td>\n",
       "      <td>28.902132</td>\n",
       "      <td>NO</td>\n",
       "      <td>RURAL</td>\n",
       "      <td>Stable</td>\n",
       "      <td>1.0</td>\n",
       "      <td>0.0</td>\n",
       "      <td>0.0</td>\n",
       "      <td>0.0</td>\n",
       "      <td>0.0</td>\n",
       "      <td>0.0</td>\n",
       "      <td>0.0</td>\n",
       "      <td>1.0</td>\n",
       "      <td>0</td>\n",
       "    </tr>\n",
       "    <tr>\n",
       "      <th>23095</th>\n",
       "      <td>19416</td>\n",
       "      <td>30</td>\n",
       "      <td>11467</td>\n",
       "      <td>DX2 DX4 DX5</td>\n",
       "      <td>43</td>\n",
       "      <td>23.236669</td>\n",
       "      <td>YES</td>\n",
       "      <td>RURAL</td>\n",
       "      <td>Stable</td>\n",
       "      <td>1.0</td>\n",
       "      <td>0.0</td>\n",
       "      <td>0.0</td>\n",
       "      <td>0.0</td>\n",
       "      <td>1.0</td>\n",
       "      <td>0.0</td>\n",
       "      <td>0.0</td>\n",
       "      <td>2.0</td>\n",
       "      <td>0</td>\n",
       "    </tr>\n",
       "    <tr>\n",
       "      <th>23096</th>\n",
       "      <td>14778</td>\n",
       "      <td>35</td>\n",
       "      <td>2841</td>\n",
       "      <td>DX6</td>\n",
       "      <td>57</td>\n",
       "      <td>29.947696</td>\n",
       "      <td>YES</td>\n",
       "      <td>URBAN</td>\n",
       "      <td>Stable</td>\n",
       "      <td>1.0</td>\n",
       "      <td>0.0</td>\n",
       "      <td>0.0</td>\n",
       "      <td>0.0</td>\n",
       "      <td>1.0</td>\n",
       "      <td>0.0</td>\n",
       "      <td>0.0</td>\n",
       "      <td>2.0</td>\n",
       "      <td>0</td>\n",
       "    </tr>\n",
       "  </tbody>\n",
       "</table>\n",
       "<p>23097 rows × 18 columns</p>\n",
       "</div>"
      ],
      "text/plain": [
       "       ID_Patient_Care_Situation  Diagnosed_Condition  Patient_ID  \\\n",
       "0                          16201                   47        8433   \n",
       "1                           9421                    3        2972   \n",
       "2                          16205                    7        8608   \n",
       "3                           5582                   31       10074   \n",
       "4                          20880                   43        7462   \n",
       "...                          ...                  ...         ...   \n",
       "23092                      17738                   24         136   \n",
       "23093                      23398                   17         697   \n",
       "23094                      22526                   33        9007   \n",
       "23095                      19416                   30       11467   \n",
       "23096                      14778                   35        2841   \n",
       "\n",
       "      Treated_with_drugs  Patient_Age  Patient_Body_Mass_Index Patient_Smoker  \\\n",
       "0                    DX2           60                21.655523             NO   \n",
       "1                    DX6            2                28.852743             NO   \n",
       "2                    DX6           20                26.179725             NO   \n",
       "3                    DX6            8                22.638945             NO   \n",
       "4                    DX1           53                21.326131             NO   \n",
       "...                  ...          ...                      ...            ...   \n",
       "23092                DX6           28                20.549522             NO   \n",
       "23093                DX6           60                25.495394            YES   \n",
       "23094                DX4            6                28.902132             NO   \n",
       "23095        DX2 DX4 DX5           43                23.236669            YES   \n",
       "23096                DX6           57                29.947696            YES   \n",
       "\n",
       "      Patient_Rural_Urban Patient_mental_condition    A    B    C    D    E  \\\n",
       "0                   URBAN                   Stable  1.0  0.0  0.0  0.0  1.0   \n",
       "1                   RURAL                   Stable  1.0  0.0  1.0  0.0  1.0   \n",
       "2                   RURAL                   Stable  1.0  0.0  0.0  0.0  1.0   \n",
       "3                   RURAL                   Stable  1.0  0.0  0.0  0.0  1.0   \n",
       "4                   RURAL                   Stable  1.0  0.0  0.0  0.0  0.0   \n",
       "...                   ...                      ...  ...  ...  ...  ...  ...   \n",
       "23092               URBAN                   Stable  1.0  0.0  0.0  0.0  0.0   \n",
       "23093               RURAL                   Stable  1.0  1.0  0.0  0.0  0.0   \n",
       "23094               RURAL                   Stable  1.0  0.0  0.0  0.0  0.0   \n",
       "23095               RURAL                   Stable  1.0  0.0  0.0  0.0  1.0   \n",
       "23096               URBAN                   Stable  1.0  0.0  0.0  0.0  1.0   \n",
       "\n",
       "         F    Z  Number_of_prev_cond  Survived_1_year  \n",
       "0      0.0  0.0                  2.0                1  \n",
       "1      0.0  0.0                  3.0                0  \n",
       "2      0.0  0.0                  2.0                1  \n",
       "3      0.0  0.0                  2.0                0  \n",
       "4      0.0  0.0                  1.0                1  \n",
       "...    ...  ...                  ...              ...  \n",
       "23092  0.0  0.0                  1.0                1  \n",
       "23093  0.0  0.0                  2.0                0  \n",
       "23094  0.0  0.0                  1.0                0  \n",
       "23095  0.0  0.0                  2.0                0  \n",
       "23096  0.0  0.0                  2.0                0  \n",
       "\n",
       "[23097 rows x 18 columns]"
      ]
     },
     "execution_count": 37,
     "metadata": {},
     "output_type": "execute_result"
    }
   ],
   "source": [
    "pharma_data"
   ]
  },
  {
   "cell_type": "markdown",
   "id": "962ef4a0",
   "metadata": {},
   "source": [
    "###### ----------------------------------------------------------------------------------------------------------------------------------------------------------------------------------------------------------"
   ]
  },
  {
   "cell_type": "code",
   "execution_count": null,
   "id": "57233872",
   "metadata": {},
   "outputs": [],
   "source": []
  },
  {
   "cell_type": "markdown",
   "id": "700977d2",
   "metadata": {},
   "source": [
    "### Data Visualization"
   ]
  },
  {
   "cell_type": "code",
   "execution_count": 38,
   "id": "bd3ef811",
   "metadata": {},
   "outputs": [],
   "source": [
    "import seaborn as sns\n",
    "import matplotlib.pyplot as plt\n"
   ]
  },
  {
   "cell_type": "code",
   "execution_count": 39,
   "id": "8b1ef2ff",
   "metadata": {},
   "outputs": [
    {
     "data": {
      "image/png": "[encoded data removed]",
      "text/plain": [
       "<Figure size 640x480 with 1 Axes>"
      ]
     },
     "metadata": {},
     "output_type": "display_data"
    },
    {
     "data": {
      "image/png": "[encoded data removed]",
      "text/plain": [
       "<Figure size 640x480 with 1 Axes>"
      ]
     },
     "metadata": {},
     "output_type": "display_data"
    }
   ],
   "source": [
    "#countplot are useful to visualize the frequency distribution of a single \n",
    "#discrete/categorical variable\n",
    "# countplot showing the count of patients in each category of 'Survived_1_year'\n",
    "sns.countplot(x='Survived_1_year',data=pharma_data,palette=\"Set1\")\n",
    "\n",
    "#Rotate x-labels\n",
    "plt.show()\n",
    "plt.xticks(rotation=90);"
   ]
  },
  {
   "cell_type": "code",
   "execution_count": 40,
   "id": "c3335093",
   "metadata": {
    "scrolled": false
   },
   "outputs": [
    {
     "data": {
      "text/plain": [
       "1    14603\n",
       "0     8494\n",
       "Name: Survived_1_year, dtype: int64"
      ]
     },
     "execution_count": 40,
     "metadata": {},
     "output_type": "execute_result"
    }
   ],
   "source": [
    "pharma_data['Survived_1_year'].value_counts()"
   ]
  },
  {
   "cell_type": "markdown",
   "id": "8a8ccfc8",
   "metadata": {},
   "source": [
    "###### ----------------------------------------------------------------------------------------------------------------------------------------------------------------------------------------------------------"
   ]
  },
  {
   "cell_type": "code",
   "execution_count": 41,
   "id": "9dae2df2",
   "metadata": {},
   "outputs": [
    {
     "data": {
      "image/png": "[encoded data removed]",
      "text/plain": [
       "<Figure size 640x480 with 1 Axes>"
      ]
     },
     "metadata": {},
     "output_type": "display_data"
    }
   ],
   "source": [
    "# Pie chart showing the percentage of smokers and non-smokers among the patients\n",
    "smoker_counts = pharma_data['Patient_Smoker'].value_counts()\n",
    "plt.pie(smoker_counts.values, labels=smoker_counts.index, autopct='%1.2f%%',colors=['red','green','black'],\n",
    "        explode=[0.03,0.03,0.07])\n",
    "plt.title('Smoker vs Non-Smoker')\n",
    "plt.show()"
   ]
  },
  {
   "cell_type": "code",
   "execution_count": 42,
   "id": "76655d40",
   "metadata": {},
   "outputs": [
    {
     "data": {
      "text/html": [
       "<div>\n",
       "<style scoped>\n",
       "    .dataframe tbody tr th:only-of-type {\n",
       "        vertical-align: middle;\n",
       "    }\n",
       "\n",
       "    .dataframe tbody tr th {\n",
       "        vertical-align: top;\n",
       "    }\n",
       "\n",
       "    .dataframe thead th {\n",
       "        text-align: right;\n",
       "    }\n",
       "</style>\n",
       "<table border=\"1\" class=\"dataframe\">\n",
       "  <thead>\n",
       "    <tr style=\"text-align: right;\">\n",
       "      <th></th>\n",
       "      <th>Survived_1_year</th>\n",
       "    </tr>\n",
       "    <tr>\n",
       "      <th>Patient_Smoker</th>\n",
       "      <th></th>\n",
       "    </tr>\n",
       "  </thead>\n",
       "  <tbody>\n",
       "    <tr>\n",
       "      <th>NO</th>\n",
       "      <td>13214</td>\n",
       "    </tr>\n",
       "    <tr>\n",
       "      <th>YES</th>\n",
       "      <td>9875</td>\n",
       "    </tr>\n",
       "    <tr>\n",
       "      <th>CANNOT SAY</th>\n",
       "      <td>8</td>\n",
       "    </tr>\n",
       "  </tbody>\n",
       "</table>\n",
       "</div>"
      ],
      "text/plain": [
       "                Survived_1_year\n",
       "Patient_Smoker                 \n",
       "NO                        13214\n",
       "YES                        9875\n",
       "CANNOT SAY                    8"
      ]
     },
     "execution_count": 42,
     "metadata": {},
     "output_type": "execute_result"
    }
   ],
   "source": [
    "# print the patient counts by smoking condition based on survived patient counts \n",
    "pharma_data.groupby(\"Patient_Smoker\").agg({\"Survived_1_year\": \"count\"}).sort_values(\"Survived_1_year\",ascending=False).head(10)"
   ]
  },
  {
   "cell_type": "code",
   "execution_count": 43,
   "id": "10240a54",
   "metadata": {},
   "outputs": [
    {
     "data": {
      "text/plain": [
       "NO            13214\n",
       "YES            9875\n",
       "CANNOT SAY        8\n",
       "Name: Patient_Smoker, dtype: int64"
      ]
     },
     "execution_count": 43,
     "metadata": {},
     "output_type": "execute_result"
    }
   ],
   "source": [
    "pharma_data['Patient_Smoker'].value_counts()"
   ]
  },
  {
   "cell_type": "markdown",
   "id": "5e97cbd6",
   "metadata": {},
   "source": [
    "###### ----------------------------------------------------------------------------------------------------------------------------------------------------------------------------------------------------------"
   ]
  },
  {
   "cell_type": "code",
   "execution_count": 44,
   "id": "33ad696b",
   "metadata": {},
   "outputs": [
    {
     "data": {
      "image/png": "[encoded data removed]",
      "text/plain": [
       "<Figure size 1000x700 with 1 Axes>"
      ]
     },
     "metadata": {},
     "output_type": "display_data"
    }
   ],
   "source": [
    "# Show the counts of treated drugs based on 'survived 1 year'\n",
    "plt.figure(figsize=(10, 7))\n",
    "sns.countplot(y=\"Treated_with_drugs\", hue=\"Survived_1_year\", data=pharma_data)\n",
    "plt.show()"
   ]
  },
  {
   "cell_type": "markdown",
   "id": "db1f9ab2",
   "metadata": {},
   "source": [
    "###### ----------------------------------------------------------------------------------------------------------------------------------------------------------------------------------------------------------"
   ]
  },
  {
   "cell_type": "code",
   "execution_count": null,
   "id": "864b3828",
   "metadata": {},
   "outputs": [],
   "source": []
  },
  {
   "cell_type": "code",
   "execution_count": 45,
   "id": "d9050bff",
   "metadata": {},
   "outputs": [
    {
     "data": {
      "image/png": "[encoded data removed]",
      "text/plain": [
       "<Figure size 640x480 with 1 Axes>"
      ]
     },
     "metadata": {},
     "output_type": "display_data"
    }
   ],
   "source": [
    "# countplot showing the patient counts by living locations condition based on survived patient counts\n",
    "\n",
    "sns.countplot(x='Patient_Rural_Urban',data=pharma_data,palette=\"Set2\")\n",
    "plt.xlabel(\"Patient Living Location\")\n",
    "plt.ylabel(\"Patient Count\")\n",
    "plt.title(\"Patient Counts by Living Location (Survived)\")\n",
    "plt.show()"
   ]
  },
  {
   "cell_type": "code",
   "execution_count": 46,
   "id": "cc741258",
   "metadata": {},
   "outputs": [
    {
     "data": {
      "text/html": [
       "<div>\n",
       "<style scoped>\n",
       "    .dataframe tbody tr th:only-of-type {\n",
       "        vertical-align: middle;\n",
       "    }\n",
       "\n",
       "    .dataframe tbody tr th {\n",
       "        vertical-align: top;\n",
       "    }\n",
       "\n",
       "    .dataframe thead th {\n",
       "        text-align: right;\n",
       "    }\n",
       "</style>\n",
       "<table border=\"1\" class=\"dataframe\">\n",
       "  <thead>\n",
       "    <tr style=\"text-align: right;\">\n",
       "      <th></th>\n",
       "      <th>Survived_1_year</th>\n",
       "    </tr>\n",
       "    <tr>\n",
       "      <th>Patient_Rural_Urban</th>\n",
       "      <th></th>\n",
       "    </tr>\n",
       "  </thead>\n",
       "  <tbody>\n",
       "    <tr>\n",
       "      <th>RURAL</th>\n",
       "      <td>16116</td>\n",
       "    </tr>\n",
       "    <tr>\n",
       "      <th>URBAN</th>\n",
       "      <td>6981</td>\n",
       "    </tr>\n",
       "  </tbody>\n",
       "</table>\n",
       "</div>"
      ],
      "text/plain": [
       "                     Survived_1_year\n",
       "Patient_Rural_Urban                 \n",
       "RURAL                          16116\n",
       "URBAN                           6981"
      ]
     },
     "execution_count": 46,
     "metadata": {},
     "output_type": "execute_result"
    }
   ],
   "source": [
    "# print the patient counts by living locations condition based on survived patient counts \n",
    "pharma_data.groupby(\"Patient_Rural_Urban\").agg({\"Survived_1_year\": \"count\"}).sort_values(\"Survived_1_year\",ascending=False).head(10)"
   ]
  },
  {
   "cell_type": "code",
   "execution_count": 47,
   "id": "b4e7ca05",
   "metadata": {},
   "outputs": [
    {
     "data": {
      "text/plain": [
       "RURAL    16116\n",
       "URBAN     6981\n",
       "Name: Patient_Rural_Urban, dtype: int64"
      ]
     },
     "execution_count": 47,
     "metadata": {},
     "output_type": "execute_result"
    }
   ],
   "source": [
    "pharma_data['Patient_Rural_Urban'].value_counts()"
   ]
  },
  {
   "cell_type": "markdown",
   "id": "d4d3e8ee",
   "metadata": {},
   "source": [
    "###### ----------------------------------------------------------------------------------------------------------------------------------------------------------------------------------------------------------"
   ]
  },
  {
   "cell_type": "code",
   "execution_count": 48,
   "id": "a42c8f85",
   "metadata": {},
   "outputs": [
    {
     "data": {
      "text/plain": [
       "Stable    23097\n",
       "Name: Patient_mental_condition, dtype: int64"
      ]
     },
     "execution_count": 48,
     "metadata": {},
     "output_type": "execute_result"
    }
   ],
   "source": [
    "# print the patient counts by living locations condition based on survived patient counts \n",
    "pharma_data['Patient_mental_condition'].value_counts()"
   ]
  },
  {
   "cell_type": "markdown",
   "id": "9f5c42d3",
   "metadata": {},
   "source": [
    "###### ----------------------------------------------------------------------------------------------------------------------------------------------------------------------------------------------------------"
   ]
  },
  {
   "cell_type": "code",
   "execution_count": 49,
   "id": "4b88e1e2",
   "metadata": {},
   "outputs": [
    {
     "name": "stdout",
     "output_type": "stream",
     "text": [
      "\n",
      "Since A,B,C,D,E,Fand Z are the symptoms/condition of patient before treatment.  Suppose for one patient, if the entry in column A is 1, it means that the previous condition of the patient was A. If the patient do not have that condition, it is 0 and same for other conditions.\n"
     ]
    },
    {
     "data": {
      "image/png": "[encoded data removed]",
      "text/plain": [
       "<Figure size 1200x1200 with 8 Axes>"
      ]
     },
     "metadata": {},
     "output_type": "display_data"
    }
   ],
   "source": [
    "# Show the counts of previous conditions based on survived 1 year\n",
    "fig, ax = plt.subplots(nrows=4, ncols=2, figsize=(12, 12))\n",
    "\n",
    "sns.countplot(x=\"A\", hue=\"Survived_1_year\", data=pharma_data, ax=ax[0,0])\n",
    "sns.countplot(x=\"B\", hue=\"Survived_1_year\", data=pharma_data, ax=ax[0,1])\n",
    "sns.countplot(x=\"C\", hue=\"Survived_1_year\", data=pharma_data, ax=ax[1,0])\n",
    "sns.countplot(x=\"D\", hue=\"Survived_1_year\", data=pharma_data, ax=ax[1,1])\n",
    "sns.countplot(x=\"E\", hue=\"Survived_1_year\", data=pharma_data, ax=ax[2,0])\n",
    "sns.countplot(x=\"F\", hue=\"Survived_1_year\", data=pharma_data, ax=ax[2,1])\n",
    "sns.countplot(x=\"Z\", hue=\"Survived_1_year\", data=pharma_data, ax=ax[3,0])\n",
    "sns.countplot(x=\"Number_of_prev_cond\", hue=\"Survived_1_year\", data=pharma_data, ax=ax[3,1])\n",
    "\n",
    "print()\n",
    "print('Since A,B,C,D,E,Fand Z are the symptoms/condition of patient before treatment.',\n",
    "      ' Suppose for one patient, if the entry in column A is 1, it means that the previous condition of the patient was A.',\n",
    "      'If the patient do not have that condition, it is 0 and same for other conditions.')\n",
    "plt.show()"
   ]
  },
  {
   "cell_type": "code",
   "execution_count": 50,
   "id": "b775e8b8",
   "metadata": {
    "scrolled": true
   },
   "outputs": [
    {
     "data": {
      "text/html": [
       "<div>\n",
       "<style scoped>\n",
       "    .dataframe tbody tr th:only-of-type {\n",
       "        vertical-align: middle;\n",
       "    }\n",
       "\n",
       "    .dataframe tbody tr th {\n",
       "        vertical-align: top;\n",
       "    }\n",
       "\n",
       "    .dataframe thead th {\n",
       "        text-align: right;\n",
       "    }\n",
       "</style>\n",
       "<table border=\"1\" class=\"dataframe\">\n",
       "  <thead>\n",
       "    <tr style=\"text-align: right;\">\n",
       "      <th></th>\n",
       "      <th>Survived_1_year</th>\n",
       "    </tr>\n",
       "    <tr>\n",
       "      <th>Number_of_prev_cond</th>\n",
       "      <th></th>\n",
       "    </tr>\n",
       "  </thead>\n",
       "  <tbody>\n",
       "    <tr>\n",
       "      <th>1.0</th>\n",
       "      <td>10676</td>\n",
       "    </tr>\n",
       "    <tr>\n",
       "      <th>2.0</th>\n",
       "      <td>8947</td>\n",
       "    </tr>\n",
       "    <tr>\n",
       "      <th>3.0</th>\n",
       "      <td>3044</td>\n",
       "    </tr>\n",
       "    <tr>\n",
       "      <th>4.0</th>\n",
       "      <td>395</td>\n",
       "    </tr>\n",
       "    <tr>\n",
       "      <th>5.0</th>\n",
       "      <td>35</td>\n",
       "    </tr>\n",
       "  </tbody>\n",
       "</table>\n",
       "</div>"
      ],
      "text/plain": [
       "                     Survived_1_year\n",
       "Number_of_prev_cond                 \n",
       "1.0                            10676\n",
       "2.0                             8947\n",
       "3.0                             3044\n",
       "4.0                              395\n",
       "5.0                               35"
      ]
     },
     "execution_count": 50,
     "metadata": {},
     "output_type": "execute_result"
    }
   ],
   "source": [
    "# print the patient counts by sum of previous condition based on survived patient counts \n",
    "pharma_data.groupby(\"Number_of_prev_cond\").agg({\"Survived_1_year\": \"count\"}).sort_values(\"Survived_1_year\",ascending=False).head(10)"
   ]
  },
  {
   "cell_type": "markdown",
   "id": "7e1b5c30",
   "metadata": {},
   "source": [
    "###### ----------------------------------------------------------------------------------------------------------------------------------------------------------------------------------------------------------"
   ]
  },
  {
   "cell_type": "markdown",
   "id": "d9cfc16c",
   "metadata": {},
   "source": [
    "## Model Building"
   ]
  },
  {
   "cell_type": "code",
   "execution_count": 51,
   "id": "10124b26",
   "metadata": {},
   "outputs": [
    {
     "data": {
      "text/html": [
       "<div>\n",
       "<style scoped>\n",
       "    .dataframe tbody tr th:only-of-type {\n",
       "        vertical-align: middle;\n",
       "    }\n",
       "\n",
       "    .dataframe tbody tr th {\n",
       "        vertical-align: top;\n",
       "    }\n",
       "\n",
       "    .dataframe thead th {\n",
       "        text-align: right;\n",
       "    }\n",
       "</style>\n",
       "<table border=\"1\" class=\"dataframe\">\n",
       "  <thead>\n",
       "    <tr style=\"text-align: right;\">\n",
       "      <th></th>\n",
       "      <th>ID_Patient_Care_Situation</th>\n",
       "      <th>Diagnosed_Condition</th>\n",
       "      <th>Patient_ID</th>\n",
       "      <th>Treated_with_drugs</th>\n",
       "      <th>Patient_Age</th>\n",
       "      <th>Patient_Body_Mass_Index</th>\n",
       "      <th>Patient_Smoker</th>\n",
       "      <th>Patient_Rural_Urban</th>\n",
       "      <th>Patient_mental_condition</th>\n",
       "      <th>A</th>\n",
       "      <th>B</th>\n",
       "      <th>C</th>\n",
       "      <th>D</th>\n",
       "      <th>E</th>\n",
       "      <th>F</th>\n",
       "      <th>Z</th>\n",
       "      <th>Number_of_prev_cond</th>\n",
       "      <th>Survived_1_year</th>\n",
       "    </tr>\n",
       "  </thead>\n",
       "  <tbody>\n",
       "    <tr>\n",
       "      <th>0</th>\n",
       "      <td>16201</td>\n",
       "      <td>47</td>\n",
       "      <td>8433</td>\n",
       "      <td>DX2</td>\n",
       "      <td>60</td>\n",
       "      <td>21.655523</td>\n",
       "      <td>NO</td>\n",
       "      <td>URBAN</td>\n",
       "      <td>Stable</td>\n",
       "      <td>1.0</td>\n",
       "      <td>0.0</td>\n",
       "      <td>0.0</td>\n",
       "      <td>0.0</td>\n",
       "      <td>1.0</td>\n",
       "      <td>0.0</td>\n",
       "      <td>0.0</td>\n",
       "      <td>2.0</td>\n",
       "      <td>1</td>\n",
       "    </tr>\n",
       "    <tr>\n",
       "      <th>1</th>\n",
       "      <td>9421</td>\n",
       "      <td>3</td>\n",
       "      <td>2972</td>\n",
       "      <td>DX6</td>\n",
       "      <td>2</td>\n",
       "      <td>28.852743</td>\n",
       "      <td>NO</td>\n",
       "      <td>RURAL</td>\n",
       "      <td>Stable</td>\n",
       "      <td>1.0</td>\n",
       "      <td>0.0</td>\n",
       "      <td>1.0</td>\n",
       "      <td>0.0</td>\n",
       "      <td>1.0</td>\n",
       "      <td>0.0</td>\n",
       "      <td>0.0</td>\n",
       "      <td>3.0</td>\n",
       "      <td>0</td>\n",
       "    </tr>\n",
       "    <tr>\n",
       "      <th>2</th>\n",
       "      <td>16205</td>\n",
       "      <td>7</td>\n",
       "      <td>8608</td>\n",
       "      <td>DX6</td>\n",
       "      <td>20</td>\n",
       "      <td>26.179725</td>\n",
       "      <td>NO</td>\n",
       "      <td>RURAL</td>\n",
       "      <td>Stable</td>\n",
       "      <td>1.0</td>\n",
       "      <td>0.0</td>\n",
       "      <td>0.0</td>\n",
       "      <td>0.0</td>\n",
       "      <td>1.0</td>\n",
       "      <td>0.0</td>\n",
       "      <td>0.0</td>\n",
       "      <td>2.0</td>\n",
       "      <td>1</td>\n",
       "    </tr>\n",
       "    <tr>\n",
       "      <th>3</th>\n",
       "      <td>5582</td>\n",
       "      <td>31</td>\n",
       "      <td>10074</td>\n",
       "      <td>DX6</td>\n",
       "      <td>8</td>\n",
       "      <td>22.638945</td>\n",
       "      <td>NO</td>\n",
       "      <td>RURAL</td>\n",
       "      <td>Stable</td>\n",
       "      <td>1.0</td>\n",
       "      <td>0.0</td>\n",
       "      <td>0.0</td>\n",
       "      <td>0.0</td>\n",
       "      <td>1.0</td>\n",
       "      <td>0.0</td>\n",
       "      <td>0.0</td>\n",
       "      <td>2.0</td>\n",
       "      <td>0</td>\n",
       "    </tr>\n",
       "    <tr>\n",
       "      <th>4</th>\n",
       "      <td>20880</td>\n",
       "      <td>43</td>\n",
       "      <td>7462</td>\n",
       "      <td>DX1</td>\n",
       "      <td>53</td>\n",
       "      <td>21.326131</td>\n",
       "      <td>NO</td>\n",
       "      <td>RURAL</td>\n",
       "      <td>Stable</td>\n",
       "      <td>1.0</td>\n",
       "      <td>0.0</td>\n",
       "      <td>0.0</td>\n",
       "      <td>0.0</td>\n",
       "      <td>0.0</td>\n",
       "      <td>0.0</td>\n",
       "      <td>0.0</td>\n",
       "      <td>1.0</td>\n",
       "      <td>1</td>\n",
       "    </tr>\n",
       "  </tbody>\n",
       "</table>\n",
       "</div>"
      ],
      "text/plain": [
       "   ID_Patient_Care_Situation  Diagnosed_Condition  Patient_ID  \\\n",
       "0                      16201                   47        8433   \n",
       "1                       9421                    3        2972   \n",
       "2                      16205                    7        8608   \n",
       "3                       5582                   31       10074   \n",
       "4                      20880                   43        7462   \n",
       "\n",
       "  Treated_with_drugs  Patient_Age  Patient_Body_Mass_Index Patient_Smoker  \\\n",
       "0                DX2           60                21.655523             NO   \n",
       "1                DX6            2                28.852743             NO   \n",
       "2                DX6           20                26.179725             NO   \n",
       "3                DX6            8                22.638945             NO   \n",
       "4                DX1           53                21.326131             NO   \n",
       "\n",
       "  Patient_Rural_Urban Patient_mental_condition    A    B    C    D    E    F  \\\n",
       "0               URBAN                   Stable  1.0  0.0  0.0  0.0  1.0  0.0   \n",
       "1               RURAL                   Stable  1.0  0.0  1.0  0.0  1.0  0.0   \n",
       "2               RURAL                   Stable  1.0  0.0  0.0  0.0  1.0  0.0   \n",
       "3               RURAL                   Stable  1.0  0.0  0.0  0.0  1.0  0.0   \n",
       "4               RURAL                   Stable  1.0  0.0  0.0  0.0  0.0  0.0   \n",
       "\n",
       "     Z  Number_of_prev_cond  Survived_1_year  \n",
       "0  0.0                  2.0                1  \n",
       "1  0.0                  3.0                0  \n",
       "2  0.0                  2.0                1  \n",
       "3  0.0                  2.0                0  \n",
       "4  0.0                  1.0                1  "
      ]
     },
     "execution_count": 51,
     "metadata": {},
     "output_type": "execute_result"
    }
   ],
   "source": [
    "pharma_data.head()"
   ]
  },
  {
   "cell_type": "code",
   "execution_count": 52,
   "id": "ef889b6d",
   "metadata": {},
   "outputs": [],
   "source": [
    "# transforming categorical variable into an numerical variable\n",
    "#  converting of cars_training data\n",
    "\n",
    "from sklearn.preprocessing import LabelEncoder\n",
    "colname= ['Treated_with_drugs', 'Patient_Smoker', 'Patient_Rural_Urban', 'Patient_mental_condition']\n",
    "\n",
    "le=LabelEncoder()\n",
    "\n",
    "for x in colname:\n",
    "    pharma_data[x]=le.fit_transform(pharma_data[x])"
   ]
  },
  {
   "cell_type": "code",
   "execution_count": 53,
   "id": "abf18983",
   "metadata": {},
   "outputs": [
    {
     "data": {
      "text/html": [
       "<div>\n",
       "<style scoped>\n",
       "    .dataframe tbody tr th:only-of-type {\n",
       "        vertical-align: middle;\n",
       "    }\n",
       "\n",
       "    .dataframe tbody tr th {\n",
       "        vertical-align: top;\n",
       "    }\n",
       "\n",
       "    .dataframe thead th {\n",
       "        text-align: right;\n",
       "    }\n",
       "</style>\n",
       "<table border=\"1\" class=\"dataframe\">\n",
       "  <thead>\n",
       "    <tr style=\"text-align: right;\">\n",
       "      <th></th>\n",
       "      <th>ID_Patient_Care_Situation</th>\n",
       "      <th>Diagnosed_Condition</th>\n",
       "      <th>Patient_ID</th>\n",
       "      <th>Treated_with_drugs</th>\n",
       "      <th>Patient_Age</th>\n",
       "      <th>Patient_Body_Mass_Index</th>\n",
       "      <th>Patient_Smoker</th>\n",
       "      <th>Patient_Rural_Urban</th>\n",
       "      <th>Patient_mental_condition</th>\n",
       "      <th>A</th>\n",
       "      <th>B</th>\n",
       "      <th>C</th>\n",
       "      <th>D</th>\n",
       "      <th>E</th>\n",
       "      <th>F</th>\n",
       "      <th>Z</th>\n",
       "      <th>Number_of_prev_cond</th>\n",
       "      <th>Survived_1_year</th>\n",
       "    </tr>\n",
       "  </thead>\n",
       "  <tbody>\n",
       "    <tr>\n",
       "      <th>0</th>\n",
       "      <td>16201</td>\n",
       "      <td>47</td>\n",
       "      <td>8433</td>\n",
       "      <td>16</td>\n",
       "      <td>60</td>\n",
       "      <td>21.655523</td>\n",
       "      <td>1</td>\n",
       "      <td>1</td>\n",
       "      <td>0</td>\n",
       "      <td>1.0</td>\n",
       "      <td>0.0</td>\n",
       "      <td>0.0</td>\n",
       "      <td>0.0</td>\n",
       "      <td>1.0</td>\n",
       "      <td>0.0</td>\n",
       "      <td>0.0</td>\n",
       "      <td>2.0</td>\n",
       "      <td>1</td>\n",
       "    </tr>\n",
       "    <tr>\n",
       "      <th>1</th>\n",
       "      <td>9421</td>\n",
       "      <td>3</td>\n",
       "      <td>2972</td>\n",
       "      <td>31</td>\n",
       "      <td>2</td>\n",
       "      <td>28.852743</td>\n",
       "      <td>1</td>\n",
       "      <td>0</td>\n",
       "      <td>0</td>\n",
       "      <td>1.0</td>\n",
       "      <td>0.0</td>\n",
       "      <td>1.0</td>\n",
       "      <td>0.0</td>\n",
       "      <td>1.0</td>\n",
       "      <td>0.0</td>\n",
       "      <td>0.0</td>\n",
       "      <td>3.0</td>\n",
       "      <td>0</td>\n",
       "    </tr>\n",
       "    <tr>\n",
       "      <th>2</th>\n",
       "      <td>16205</td>\n",
       "      <td>7</td>\n",
       "      <td>8608</td>\n",
       "      <td>31</td>\n",
       "      <td>20</td>\n",
       "      <td>26.179725</td>\n",
       "      <td>1</td>\n",
       "      <td>0</td>\n",
       "      <td>0</td>\n",
       "      <td>1.0</td>\n",
       "      <td>0.0</td>\n",
       "      <td>0.0</td>\n",
       "      <td>0.0</td>\n",
       "      <td>1.0</td>\n",
       "      <td>0.0</td>\n",
       "      <td>0.0</td>\n",
       "      <td>2.0</td>\n",
       "      <td>1</td>\n",
       "    </tr>\n",
       "    <tr>\n",
       "      <th>3</th>\n",
       "      <td>5582</td>\n",
       "      <td>31</td>\n",
       "      <td>10074</td>\n",
       "      <td>31</td>\n",
       "      <td>8</td>\n",
       "      <td>22.638945</td>\n",
       "      <td>1</td>\n",
       "      <td>0</td>\n",
       "      <td>0</td>\n",
       "      <td>1.0</td>\n",
       "      <td>0.0</td>\n",
       "      <td>0.0</td>\n",
       "      <td>0.0</td>\n",
       "      <td>1.0</td>\n",
       "      <td>0.0</td>\n",
       "      <td>0.0</td>\n",
       "      <td>2.0</td>\n",
       "      <td>0</td>\n",
       "    </tr>\n",
       "    <tr>\n",
       "      <th>4</th>\n",
       "      <td>20880</td>\n",
       "      <td>43</td>\n",
       "      <td>7462</td>\n",
       "      <td>0</td>\n",
       "      <td>53</td>\n",
       "      <td>21.326131</td>\n",
       "      <td>1</td>\n",
       "      <td>0</td>\n",
       "      <td>0</td>\n",
       "      <td>1.0</td>\n",
       "      <td>0.0</td>\n",
       "      <td>0.0</td>\n",
       "      <td>0.0</td>\n",
       "      <td>0.0</td>\n",
       "      <td>0.0</td>\n",
       "      <td>0.0</td>\n",
       "      <td>1.0</td>\n",
       "      <td>1</td>\n",
       "    </tr>\n",
       "  </tbody>\n",
       "</table>\n",
       "</div>"
      ],
      "text/plain": [
       "   ID_Patient_Care_Situation  Diagnosed_Condition  Patient_ID  \\\n",
       "0                      16201                   47        8433   \n",
       "1                       9421                    3        2972   \n",
       "2                      16205                    7        8608   \n",
       "3                       5582                   31       10074   \n",
       "4                      20880                   43        7462   \n",
       "\n",
       "   Treated_with_drugs  Patient_Age  Patient_Body_Mass_Index  Patient_Smoker  \\\n",
       "0                  16           60                21.655523               1   \n",
       "1                  31            2                28.852743               1   \n",
       "2                  31           20                26.179725               1   \n",
       "3                  31            8                22.638945               1   \n",
       "4                   0           53                21.326131               1   \n",
       "\n",
       "   Patient_Rural_Urban  Patient_mental_condition    A    B    C    D    E  \\\n",
       "0                    1                         0  1.0  0.0  0.0  0.0  1.0   \n",
       "1                    0                         0  1.0  0.0  1.0  0.0  1.0   \n",
       "2                    0                         0  1.0  0.0  0.0  0.0  1.0   \n",
       "3                    0                         0  1.0  0.0  0.0  0.0  1.0   \n",
       "4                    0                         0  1.0  0.0  0.0  0.0  0.0   \n",
       "\n",
       "     F    Z  Number_of_prev_cond  Survived_1_year  \n",
       "0  0.0  0.0                  2.0                1  \n",
       "1  0.0  0.0                  3.0                0  \n",
       "2  0.0  0.0                  2.0                1  \n",
       "3  0.0  0.0                  2.0                0  \n",
       "4  0.0  0.0                  1.0                1  "
      ]
     },
     "execution_count": 53,
     "metadata": {},
     "output_type": "execute_result"
    }
   ],
   "source": [
    "pharma_data.head()"
   ]
  },
  {
   "cell_type": "markdown",
   "id": "26ec8095",
   "metadata": {},
   "source": [
    "###### ----------------------------------------------------------------------------------------------------------------------------------------------------------------------------------------------------------"
   ]
  },
  {
   "cell_type": "code",
   "execution_count": 54,
   "id": "00910571",
   "metadata": {},
   "outputs": [],
   "source": [
    "### feature selection"
   ]
  },
  {
   "cell_type": "code",
   "execution_count": 55,
   "id": "4b1a64a5",
   "metadata": {
    "scrolled": true
   },
   "outputs": [
    {
     "data": {
      "text/html": [
       "<div>\n",
       "<style scoped>\n",
       "    .dataframe tbody tr th:only-of-type {\n",
       "        vertical-align: middle;\n",
       "    }\n",
       "\n",
       "    .dataframe tbody tr th {\n",
       "        vertical-align: top;\n",
       "    }\n",
       "\n",
       "    .dataframe thead th {\n",
       "        text-align: right;\n",
       "    }\n",
       "</style>\n",
       "<table border=\"1\" class=\"dataframe\">\n",
       "  <thead>\n",
       "    <tr style=\"text-align: right;\">\n",
       "      <th></th>\n",
       "      <th>Diagnosed_Condition</th>\n",
       "      <th>Patient_ID</th>\n",
       "      <th>Treated_with_drugs</th>\n",
       "      <th>Patient_Age</th>\n",
       "      <th>Patient_Body_Mass_Index</th>\n",
       "      <th>Patient_Smoker</th>\n",
       "      <th>Patient_Rural_Urban</th>\n",
       "      <th>Patient_mental_condition</th>\n",
       "      <th>A</th>\n",
       "      <th>B</th>\n",
       "      <th>C</th>\n",
       "      <th>D</th>\n",
       "      <th>E</th>\n",
       "      <th>F</th>\n",
       "      <th>Z</th>\n",
       "      <th>Number_of_prev_cond</th>\n",
       "      <th>Survived_1_year</th>\n",
       "    </tr>\n",
       "  </thead>\n",
       "  <tbody>\n",
       "    <tr>\n",
       "      <th>0</th>\n",
       "      <td>47</td>\n",
       "      <td>8433</td>\n",
       "      <td>16</td>\n",
       "      <td>60</td>\n",
       "      <td>21.655523</td>\n",
       "      <td>1</td>\n",
       "      <td>1</td>\n",
       "      <td>0</td>\n",
       "      <td>1.0</td>\n",
       "      <td>0.0</td>\n",
       "      <td>0.0</td>\n",
       "      <td>0.0</td>\n",
       "      <td>1.0</td>\n",
       "      <td>0.0</td>\n",
       "      <td>0.0</td>\n",
       "      <td>2.0</td>\n",
       "      <td>1</td>\n",
       "    </tr>\n",
       "    <tr>\n",
       "      <th>1</th>\n",
       "      <td>3</td>\n",
       "      <td>2972</td>\n",
       "      <td>31</td>\n",
       "      <td>2</td>\n",
       "      <td>28.852743</td>\n",
       "      <td>1</td>\n",
       "      <td>0</td>\n",
       "      <td>0</td>\n",
       "      <td>1.0</td>\n",
       "      <td>0.0</td>\n",
       "      <td>1.0</td>\n",
       "      <td>0.0</td>\n",
       "      <td>1.0</td>\n",
       "      <td>0.0</td>\n",
       "      <td>0.0</td>\n",
       "      <td>3.0</td>\n",
       "      <td>0</td>\n",
       "    </tr>\n",
       "    <tr>\n",
       "      <th>2</th>\n",
       "      <td>7</td>\n",
       "      <td>8608</td>\n",
       "      <td>31</td>\n",
       "      <td>20</td>\n",
       "      <td>26.179725</td>\n",
       "      <td>1</td>\n",
       "      <td>0</td>\n",
       "      <td>0</td>\n",
       "      <td>1.0</td>\n",
       "      <td>0.0</td>\n",
       "      <td>0.0</td>\n",
       "      <td>0.0</td>\n",
       "      <td>1.0</td>\n",
       "      <td>0.0</td>\n",
       "      <td>0.0</td>\n",
       "      <td>2.0</td>\n",
       "      <td>1</td>\n",
       "    </tr>\n",
       "    <tr>\n",
       "      <th>3</th>\n",
       "      <td>31</td>\n",
       "      <td>10074</td>\n",
       "      <td>31</td>\n",
       "      <td>8</td>\n",
       "      <td>22.638945</td>\n",
       "      <td>1</td>\n",
       "      <td>0</td>\n",
       "      <td>0</td>\n",
       "      <td>1.0</td>\n",
       "      <td>0.0</td>\n",
       "      <td>0.0</td>\n",
       "      <td>0.0</td>\n",
       "      <td>1.0</td>\n",
       "      <td>0.0</td>\n",
       "      <td>0.0</td>\n",
       "      <td>2.0</td>\n",
       "      <td>0</td>\n",
       "    </tr>\n",
       "    <tr>\n",
       "      <th>4</th>\n",
       "      <td>43</td>\n",
       "      <td>7462</td>\n",
       "      <td>0</td>\n",
       "      <td>53</td>\n",
       "      <td>21.326131</td>\n",
       "      <td>1</td>\n",
       "      <td>0</td>\n",
       "      <td>0</td>\n",
       "      <td>1.0</td>\n",
       "      <td>0.0</td>\n",
       "      <td>0.0</td>\n",
       "      <td>0.0</td>\n",
       "      <td>0.0</td>\n",
       "      <td>0.0</td>\n",
       "      <td>0.0</td>\n",
       "      <td>1.0</td>\n",
       "      <td>1</td>\n",
       "    </tr>\n",
       "  </tbody>\n",
       "</table>\n",
       "</div>"
      ],
      "text/plain": [
       "   Diagnosed_Condition  Patient_ID  Treated_with_drugs  Patient_Age  \\\n",
       "0                   47        8433                  16           60   \n",
       "1                    3        2972                  31            2   \n",
       "2                    7        8608                  31           20   \n",
       "3                   31       10074                  31            8   \n",
       "4                   43        7462                   0           53   \n",
       "\n",
       "   Patient_Body_Mass_Index  Patient_Smoker  Patient_Rural_Urban  \\\n",
       "0                21.655523               1                    1   \n",
       "1                28.852743               1                    0   \n",
       "2                26.179725               1                    0   \n",
       "3                22.638945               1                    0   \n",
       "4                21.326131               1                    0   \n",
       "\n",
       "   Patient_mental_condition    A    B    C    D    E    F    Z  \\\n",
       "0                         0  1.0  0.0  0.0  0.0  1.0  0.0  0.0   \n",
       "1                         0  1.0  0.0  1.0  0.0  1.0  0.0  0.0   \n",
       "2                         0  1.0  0.0  0.0  0.0  1.0  0.0  0.0   \n",
       "3                         0  1.0  0.0  0.0  0.0  1.0  0.0  0.0   \n",
       "4                         0  1.0  0.0  0.0  0.0  0.0  0.0  0.0   \n",
       "\n",
       "   Number_of_prev_cond  Survived_1_year  \n",
       "0                  2.0                1  \n",
       "1                  3.0                0  \n",
       "2                  2.0                1  \n",
       "3                  2.0                0  \n",
       "4                  1.0                1  "
      ]
     },
     "execution_count": 55,
     "metadata": {},
     "output_type": "execute_result"
    }
   ],
   "source": [
    "pharma_data.drop('ID_Patient_Care_Situation',axis=1,inplace=True)\n",
    "pharma_data.head()"
   ]
  },
  {
   "cell_type": "code",
   "execution_count": 56,
   "id": "df0fe447",
   "metadata": {},
   "outputs": [
    {
     "data": {
      "text/html": [
       "<div>\n",
       "<style scoped>\n",
       "    .dataframe tbody tr th:only-of-type {\n",
       "        vertical-align: middle;\n",
       "    }\n",
       "\n",
       "    .dataframe tbody tr th {\n",
       "        vertical-align: top;\n",
       "    }\n",
       "\n",
       "    .dataframe thead th {\n",
       "        text-align: right;\n",
       "    }\n",
       "</style>\n",
       "<table border=\"1\" class=\"dataframe\">\n",
       "  <thead>\n",
       "    <tr style=\"text-align: right;\">\n",
       "      <th></th>\n",
       "      <th>Diagnosed_Condition</th>\n",
       "      <th>Treated_with_drugs</th>\n",
       "      <th>Patient_Age</th>\n",
       "      <th>Patient_Body_Mass_Index</th>\n",
       "      <th>Patient_Smoker</th>\n",
       "      <th>Patient_Rural_Urban</th>\n",
       "      <th>Patient_mental_condition</th>\n",
       "      <th>A</th>\n",
       "      <th>B</th>\n",
       "      <th>C</th>\n",
       "      <th>D</th>\n",
       "      <th>E</th>\n",
       "      <th>F</th>\n",
       "      <th>Z</th>\n",
       "      <th>Number_of_prev_cond</th>\n",
       "      <th>Survived_1_year</th>\n",
       "    </tr>\n",
       "  </thead>\n",
       "  <tbody>\n",
       "    <tr>\n",
       "      <th>0</th>\n",
       "      <td>47</td>\n",
       "      <td>16</td>\n",
       "      <td>60</td>\n",
       "      <td>21.655523</td>\n",
       "      <td>1</td>\n",
       "      <td>1</td>\n",
       "      <td>0</td>\n",
       "      <td>1.0</td>\n",
       "      <td>0.0</td>\n",
       "      <td>0.0</td>\n",
       "      <td>0.0</td>\n",
       "      <td>1.0</td>\n",
       "      <td>0.0</td>\n",
       "      <td>0.0</td>\n",
       "      <td>2.0</td>\n",
       "      <td>1</td>\n",
       "    </tr>\n",
       "    <tr>\n",
       "      <th>1</th>\n",
       "      <td>3</td>\n",
       "      <td>31</td>\n",
       "      <td>2</td>\n",
       "      <td>28.852743</td>\n",
       "      <td>1</td>\n",
       "      <td>0</td>\n",
       "      <td>0</td>\n",
       "      <td>1.0</td>\n",
       "      <td>0.0</td>\n",
       "      <td>1.0</td>\n",
       "      <td>0.0</td>\n",
       "      <td>1.0</td>\n",
       "      <td>0.0</td>\n",
       "      <td>0.0</td>\n",
       "      <td>3.0</td>\n",
       "      <td>0</td>\n",
       "    </tr>\n",
       "    <tr>\n",
       "      <th>2</th>\n",
       "      <td>7</td>\n",
       "      <td>31</td>\n",
       "      <td>20</td>\n",
       "      <td>26.179725</td>\n",
       "      <td>1</td>\n",
       "      <td>0</td>\n",
       "      <td>0</td>\n",
       "      <td>1.0</td>\n",
       "      <td>0.0</td>\n",
       "      <td>0.0</td>\n",
       "      <td>0.0</td>\n",
       "      <td>1.0</td>\n",
       "      <td>0.0</td>\n",
       "      <td>0.0</td>\n",
       "      <td>2.0</td>\n",
       "      <td>1</td>\n",
       "    </tr>\n",
       "    <tr>\n",
       "      <th>3</th>\n",
       "      <td>31</td>\n",
       "      <td>31</td>\n",
       "      <td>8</td>\n",
       "      <td>22.638945</td>\n",
       "      <td>1</td>\n",
       "      <td>0</td>\n",
       "      <td>0</td>\n",
       "      <td>1.0</td>\n",
       "      <td>0.0</td>\n",
       "      <td>0.0</td>\n",
       "      <td>0.0</td>\n",
       "      <td>1.0</td>\n",
       "      <td>0.0</td>\n",
       "      <td>0.0</td>\n",
       "      <td>2.0</td>\n",
       "      <td>0</td>\n",
       "    </tr>\n",
       "    <tr>\n",
       "      <th>4</th>\n",
       "      <td>43</td>\n",
       "      <td>0</td>\n",
       "      <td>53</td>\n",
       "      <td>21.326131</td>\n",
       "      <td>1</td>\n",
       "      <td>0</td>\n",
       "      <td>0</td>\n",
       "      <td>1.0</td>\n",
       "      <td>0.0</td>\n",
       "      <td>0.0</td>\n",
       "      <td>0.0</td>\n",
       "      <td>0.0</td>\n",
       "      <td>0.0</td>\n",
       "      <td>0.0</td>\n",
       "      <td>1.0</td>\n",
       "      <td>1</td>\n",
       "    </tr>\n",
       "  </tbody>\n",
       "</table>\n",
       "</div>"
      ],
      "text/plain": [
       "   Diagnosed_Condition  Treated_with_drugs  Patient_Age  \\\n",
       "0                   47                  16           60   \n",
       "1                    3                  31            2   \n",
       "2                    7                  31           20   \n",
       "3                   31                  31            8   \n",
       "4                   43                   0           53   \n",
       "\n",
       "   Patient_Body_Mass_Index  Patient_Smoker  Patient_Rural_Urban  \\\n",
       "0                21.655523               1                    1   \n",
       "1                28.852743               1                    0   \n",
       "2                26.179725               1                    0   \n",
       "3                22.638945               1                    0   \n",
       "4                21.326131               1                    0   \n",
       "\n",
       "   Patient_mental_condition    A    B    C    D    E    F    Z  \\\n",
       "0                         0  1.0  0.0  0.0  0.0  1.0  0.0  0.0   \n",
       "1                         0  1.0  0.0  1.0  0.0  1.0  0.0  0.0   \n",
       "2                         0  1.0  0.0  0.0  0.0  1.0  0.0  0.0   \n",
       "3                         0  1.0  0.0  0.0  0.0  1.0  0.0  0.0   \n",
       "4                         0  1.0  0.0  0.0  0.0  0.0  0.0  0.0   \n",
       "\n",
       "   Number_of_prev_cond  Survived_1_year  \n",
       "0                  2.0                1  \n",
       "1                  3.0                0  \n",
       "2                  2.0                1  \n",
       "3                  2.0                0  \n",
       "4                  1.0                1  "
      ]
     },
     "execution_count": 56,
     "metadata": {},
     "output_type": "execute_result"
    }
   ],
   "source": [
    "pharma_data.drop('Patient_ID',axis=1,inplace=True)\n",
    "pharma_data.head()"
   ]
  },
  {
   "cell_type": "code",
   "execution_count": null,
   "id": "e0148006",
   "metadata": {},
   "outputs": [],
   "source": []
  },
  {
   "cell_type": "markdown",
   "id": "a1826975",
   "metadata": {},
   "source": [
    "###### ----------------------------------------------------------------------------------------------------------------------------------------------------------------------------------------------------------"
   ]
  },
  {
   "cell_type": "code",
   "execution_count": 57,
   "id": "6fdda0d1",
   "metadata": {},
   "outputs": [
    {
     "data": {
      "image/png": "[encoded data removed]",
      "text/plain": [
       "<Figure size 2000x2000 with 2 Axes>"
      ]
     },
     "metadata": {},
     "output_type": "display_data"
    }
   ],
   "source": [
    "corr_df=pharma_data.corr()\n",
    "#print(corr_df)\n",
    "\n",
    "plt.figure(figsize=(20,20))\n",
    "sns.heatmap(corr_df,vmin=-1.0,vmax=1.0,annot=True)\n",
    "plt.show()"
   ]
  },
  {
   "cell_type": "code",
   "execution_count": 58,
   "id": "7d0797bb",
   "metadata": {},
   "outputs": [
    {
     "data": {
      "text/html": [
       "<div>\n",
       "<style scoped>\n",
       "    .dataframe tbody tr th:only-of-type {\n",
       "        vertical-align: middle;\n",
       "    }\n",
       "\n",
       "    .dataframe tbody tr th {\n",
       "        vertical-align: top;\n",
       "    }\n",
       "\n",
       "    .dataframe thead th {\n",
       "        text-align: right;\n",
       "    }\n",
       "</style>\n",
       "<table border=\"1\" class=\"dataframe\">\n",
       "  <thead>\n",
       "    <tr style=\"text-align: right;\">\n",
       "      <th></th>\n",
       "      <th>Diagnosed_Condition</th>\n",
       "      <th>Treated_with_drugs</th>\n",
       "      <th>Patient_Age</th>\n",
       "      <th>Patient_Body_Mass_Index</th>\n",
       "      <th>Patient_Smoker</th>\n",
       "      <th>Patient_Rural_Urban</th>\n",
       "      <th>A</th>\n",
       "      <th>B</th>\n",
       "      <th>C</th>\n",
       "      <th>D</th>\n",
       "      <th>E</th>\n",
       "      <th>F</th>\n",
       "      <th>Z</th>\n",
       "      <th>Number_of_prev_cond</th>\n",
       "      <th>Survived_1_year</th>\n",
       "    </tr>\n",
       "  </thead>\n",
       "  <tbody>\n",
       "    <tr>\n",
       "      <th>0</th>\n",
       "      <td>47</td>\n",
       "      <td>16</td>\n",
       "      <td>60</td>\n",
       "      <td>21.655523</td>\n",
       "      <td>1</td>\n",
       "      <td>1</td>\n",
       "      <td>1.0</td>\n",
       "      <td>0.0</td>\n",
       "      <td>0.0</td>\n",
       "      <td>0.0</td>\n",
       "      <td>1.0</td>\n",
       "      <td>0.0</td>\n",
       "      <td>0.0</td>\n",
       "      <td>2.0</td>\n",
       "      <td>1</td>\n",
       "    </tr>\n",
       "    <tr>\n",
       "      <th>1</th>\n",
       "      <td>3</td>\n",
       "      <td>31</td>\n",
       "      <td>2</td>\n",
       "      <td>28.852743</td>\n",
       "      <td>1</td>\n",
       "      <td>0</td>\n",
       "      <td>1.0</td>\n",
       "      <td>0.0</td>\n",
       "      <td>1.0</td>\n",
       "      <td>0.0</td>\n",
       "      <td>1.0</td>\n",
       "      <td>0.0</td>\n",
       "      <td>0.0</td>\n",
       "      <td>3.0</td>\n",
       "      <td>0</td>\n",
       "    </tr>\n",
       "    <tr>\n",
       "      <th>2</th>\n",
       "      <td>7</td>\n",
       "      <td>31</td>\n",
       "      <td>20</td>\n",
       "      <td>26.179725</td>\n",
       "      <td>1</td>\n",
       "      <td>0</td>\n",
       "      <td>1.0</td>\n",
       "      <td>0.0</td>\n",
       "      <td>0.0</td>\n",
       "      <td>0.0</td>\n",
       "      <td>1.0</td>\n",
       "      <td>0.0</td>\n",
       "      <td>0.0</td>\n",
       "      <td>2.0</td>\n",
       "      <td>1</td>\n",
       "    </tr>\n",
       "    <tr>\n",
       "      <th>3</th>\n",
       "      <td>31</td>\n",
       "      <td>31</td>\n",
       "      <td>8</td>\n",
       "      <td>22.638945</td>\n",
       "      <td>1</td>\n",
       "      <td>0</td>\n",
       "      <td>1.0</td>\n",
       "      <td>0.0</td>\n",
       "      <td>0.0</td>\n",
       "      <td>0.0</td>\n",
       "      <td>1.0</td>\n",
       "      <td>0.0</td>\n",
       "      <td>0.0</td>\n",
       "      <td>2.0</td>\n",
       "      <td>0</td>\n",
       "    </tr>\n",
       "    <tr>\n",
       "      <th>4</th>\n",
       "      <td>43</td>\n",
       "      <td>0</td>\n",
       "      <td>53</td>\n",
       "      <td>21.326131</td>\n",
       "      <td>1</td>\n",
       "      <td>0</td>\n",
       "      <td>1.0</td>\n",
       "      <td>0.0</td>\n",
       "      <td>0.0</td>\n",
       "      <td>0.0</td>\n",
       "      <td>0.0</td>\n",
       "      <td>0.0</td>\n",
       "      <td>0.0</td>\n",
       "      <td>1.0</td>\n",
       "      <td>1</td>\n",
       "    </tr>\n",
       "  </tbody>\n",
       "</table>\n",
       "</div>"
      ],
      "text/plain": [
       "   Diagnosed_Condition  Treated_with_drugs  Patient_Age  \\\n",
       "0                   47                  16           60   \n",
       "1                    3                  31            2   \n",
       "2                    7                  31           20   \n",
       "3                   31                  31            8   \n",
       "4                   43                   0           53   \n",
       "\n",
       "   Patient_Body_Mass_Index  Patient_Smoker  Patient_Rural_Urban    A    B  \\\n",
       "0                21.655523               1                    1  1.0  0.0   \n",
       "1                28.852743               1                    0  1.0  0.0   \n",
       "2                26.179725               1                    0  1.0  0.0   \n",
       "3                22.638945               1                    0  1.0  0.0   \n",
       "4                21.326131               1                    0  1.0  0.0   \n",
       "\n",
       "     C    D    E    F    Z  Number_of_prev_cond  Survived_1_year  \n",
       "0  0.0  0.0  1.0  0.0  0.0                  2.0                1  \n",
       "1  1.0  0.0  1.0  0.0  0.0                  3.0                0  \n",
       "2  0.0  0.0  1.0  0.0  0.0                  2.0                1  \n",
       "3  0.0  0.0  1.0  0.0  0.0                  2.0                0  \n",
       "4  0.0  0.0  0.0  0.0  0.0                  1.0                1  "
      ]
     },
     "execution_count": 58,
     "metadata": {},
     "output_type": "execute_result"
    }
   ],
   "source": [
    "pharma_data.drop('Patient_mental_condition',axis=1,inplace=True)\n",
    "pharma_data.head()"
   ]
  },
  {
   "cell_type": "code",
   "execution_count": 59,
   "id": "55961da6",
   "metadata": {},
   "outputs": [
    {
     "data": {
      "text/plain": [
       "(23097, 15)"
      ]
     },
     "execution_count": 59,
     "metadata": {},
     "output_type": "execute_result"
    }
   ],
   "source": [
    "pharma_data.shape"
   ]
  },
  {
   "cell_type": "markdown",
   "id": "9d44e10a",
   "metadata": {},
   "source": [
    "###### ----------------------------------------------------------------------------------------------------------------------------------------------------------------------------------------------------------"
   ]
  },
  {
   "cell_type": "code",
   "execution_count": 60,
   "id": "e7ec65a2",
   "metadata": {},
   "outputs": [
    {
     "name": "stdout",
     "output_type": "stream",
     "text": [
      "(23097, 14)\n",
      "(23097,)\n"
     ]
    }
   ],
   "source": [
    "# creating X and Y\n",
    "\n",
    "X = pharma_data.values[:,0:-1]\n",
    "Y = pharma_data.values[:,-1]\n",
    "Y = Y.astype(int)\n",
    "\n",
    "print(X.shape)\n",
    "print(Y.shape)"
   ]
  },
  {
   "cell_type": "code",
   "execution_count": 61,
   "id": "e82f8af0",
   "metadata": {},
   "outputs": [
    {
     "data": {
      "text/plain": [
       "array([1, 0, 1, ..., 0, 0, 0])"
      ]
     },
     "execution_count": 61,
     "metadata": {},
     "output_type": "execute_result"
    }
   ],
   "source": [
    "Y"
   ]
  },
  {
   "cell_type": "code",
   "execution_count": 62,
   "id": "6b7bca18",
   "metadata": {},
   "outputs": [],
   "source": [
    "from sklearn.preprocessing import StandardScaler\n",
    "\n",
    "scaler=StandardScaler()\n",
    "\n",
    "scaler.fit(X)\n",
    "\n",
    "X = scaler.transform(X)\n"
   ]
  },
  {
   "cell_type": "code",
   "execution_count": 63,
   "id": "ac84a638",
   "metadata": {},
   "outputs": [],
   "source": [
    "# splitting the data into 80 - 20 %\n",
    "\n",
    "from sklearn.model_selection import train_test_split\n",
    "\n",
    "#split the data into test and train\n",
    "X_train,X_test,Y_train,Y_test=train_test_split(X,Y,test_size=0.2,random_state=10)"
   ]
  },
  {
   "cell_type": "code",
   "execution_count": 64,
   "id": "8c41e9d4",
   "metadata": {},
   "outputs": [
    {
     "name": "stdout",
     "output_type": "stream",
     "text": [
      "(18477, 14)\n",
      "(18477,)\n",
      "(4620, 14)\n",
      "(4620,)\n"
     ]
    }
   ],
   "source": [
    "print(X_train.shape)\n",
    "print(Y_train.shape)\n",
    "print(X_test.shape)\n",
    "print(Y_test.shape)"
   ]
  },
  {
   "cell_type": "code",
   "execution_count": 65,
   "id": "8b6c4652",
   "metadata": {},
   "outputs": [],
   "source": [
    "from sklearn.linear_model import LogisticRegression\n",
    "#create a model object\n",
    "classifier=LogisticRegression(random_state=10)\n",
    "#train the model object\n",
    "classifier.fit(X_train,Y_train)# fit function is used to train the model\n",
    "Y_pred= classifier.predict(X_test)"
   ]
  },
  {
   "cell_type": "code",
   "execution_count": 66,
   "id": "bf4a4261",
   "metadata": {},
   "outputs": [
    {
     "name": "stdout",
     "output_type": "stream",
     "text": [
      "[[ 756  930]\n",
      " [ 405 2529]]\n",
      "Classification report: \n",
      "              precision    recall  f1-score   support\n",
      "\n",
      "           0       0.65      0.45      0.53      1686\n",
      "           1       0.73      0.86      0.79      2934\n",
      "\n",
      "    accuracy                           0.71      4620\n",
      "   macro avg       0.69      0.66      0.66      4620\n",
      "weighted avg       0.70      0.71      0.70      4620\n",
      "\n",
      "Accuracy of the model:  0.711038961038961\n"
     ]
    }
   ],
   "source": [
    "from sklearn.metrics import confusion_matrix, accuracy_score, classification_report\n",
    "\n",
    "cfm=confusion_matrix(Y_test,Y_pred)\n",
    "print(cfm)\n",
    "\n",
    "print(\"Classification report: \")\n",
    "\n",
    "print(classification_report(Y_test,Y_pred))\n",
    "\n",
    "acc=accuracy_score(Y_test, Y_pred)\n",
    "print(\"Accuracy of the model: \",acc)"
   ]
  },
  {
   "cell_type": "code",
   "execution_count": null,
   "id": "5882f69a",
   "metadata": {},
   "outputs": [],
   "source": []
  },
  {
   "cell_type": "markdown",
   "id": "b8dad634",
   "metadata": {},
   "source": [
    "### approach to build the pipeline of model i.e. to check which algorithm is best"
   ]
  },
  {
   "cell_type": "code",
   "execution_count": 83,
   "id": "e2183f1f",
   "metadata": {},
   "outputs": [],
   "source": [
    "from sklearn.tree import DecisionTreeClassifier\n",
    "from sklearn.svm import SVC\n",
    "from sklearn.neighbors import KNeighborsClassifier\n",
    "from sklearn.linear_model import LogisticRegression\n",
    "\n",
    "# first, initialize the classificators\n",
    "tree= DecisionTreeClassifier(random_state=10) # using the random state for reproducibility\n",
    "knn= KNeighborsClassifier(n_neighbors=5,metric='euclidean')\n",
    "svm= SVC(kernel=\"rbf\", gamma=0.1,C=1,random_state=10)\n",
    "logreg=LogisticRegression(random_state=10)\n"
   ]
  },
  {
   "cell_type": "code",
   "execution_count": 84,
   "id": "d21bf358",
   "metadata": {},
   "outputs": [],
   "source": [
    "# now, create a list with the objects \n",
    "models= [tree, knn, svm, logreg]"
   ]
  },
  {
   "cell_type": "code",
   "execution_count": 85,
   "id": "a1bffa21",
   "metadata": {},
   "outputs": [
    {
     "name": "stdout",
     "output_type": "stream",
     "text": [
      "[[1122  564]\n",
      " [ 546 2388]]\n",
      "The accuracy of the  DecisionTreeClassifier  model is  75.97402597402598\n",
      "Classification report:\n",
      "               precision    recall  f1-score   support\n",
      "\n",
      "           0       0.67      0.67      0.67      1686\n",
      "           1       0.81      0.81      0.81      2934\n",
      "\n",
      "    accuracy                           0.76      4620\n",
      "   macro avg       0.74      0.74      0.74      4620\n",
      "weighted avg       0.76      0.76      0.76      4620\n",
      "\n",
      "\n",
      "\n",
      "[[1015  671]\n",
      " [ 491 2443]]\n",
      "The accuracy of the  KNeighborsClassifier  model is  74.84848484848486\n",
      "Classification report:\n",
      "               precision    recall  f1-score   support\n",
      "\n",
      "           0       0.67      0.60      0.64      1686\n",
      "           1       0.78      0.83      0.81      2934\n",
      "\n",
      "    accuracy                           0.75      4620\n",
      "   macro avg       0.73      0.72      0.72      4620\n",
      "weighted avg       0.74      0.75      0.75      4620\n",
      "\n",
      "\n",
      "\n",
      "[[ 991  695]\n",
      " [ 347 2587]]\n",
      "The accuracy of the  SVC  model is  77.44588744588745\n",
      "Classification report:\n",
      "               precision    recall  f1-score   support\n",
      "\n",
      "           0       0.74      0.59      0.66      1686\n",
      "           1       0.79      0.88      0.83      2934\n",
      "\n",
      "    accuracy                           0.77      4620\n",
      "   macro avg       0.76      0.73      0.74      4620\n",
      "weighted avg       0.77      0.77      0.77      4620\n",
      "\n",
      "\n",
      "\n",
      "[[ 756  930]\n",
      " [ 405 2529]]\n",
      "The accuracy of the  LogisticRegression  model is  71.1038961038961\n",
      "Classification report:\n",
      "               precision    recall  f1-score   support\n",
      "\n",
      "           0       0.65      0.45      0.53      1686\n",
      "           1       0.73      0.86      0.79      2934\n",
      "\n",
      "    accuracy                           0.71      4620\n",
      "   macro avg       0.69      0.66      0.66      4620\n",
      "weighted avg       0.70      0.71      0.70      4620\n",
      "\n",
      "\n",
      "\n"
     ]
    }
   ],
   "source": [
    "from sklearn.metrics import confusion_matrix, accuracy_score,classification_report\n",
    "\n",
    "for model in models:\n",
    "    model.fit(X_train, Y_train) # fit the model\n",
    "    Y_pred= model.predict(X_test) # then predict on the test set\n",
    "    accuracy= accuracy_score(Y_test, Y_pred) \n",
    "    clf_report= classification_report(Y_test, Y_pred) \n",
    "    print(confusion_matrix(Y_test,Y_pred))\n",
    "    print(\"The accuracy of the \",type(model).__name__, \" model is \", accuracy*100 )\n",
    "    print(\"Classification report:\\n\", clf_report)\n",
    "    print(\"\\n\")"
   ]
  },
  {
   "cell_type": "markdown",
   "id": "f8d6038f",
   "metadata": {},
   "source": [
    "##### Here SVC model is giving us better accuracy than other model so we will go with svc model"
   ]
  },
  {
   "cell_type": "code",
   "execution_count": 89,
   "id": "24da15f6",
   "metadata": {},
   "outputs": [],
   "source": [
    "from sklearn.svm import SVC\n",
    "model= SVC(kernel=\"rbf\", gamma=0.1,C=10,random_state=10)\n",
    "model.fit(X_train, Y_train)\n",
    "Y_pred= model.predict(X_test)"
   ]
  },
  {
   "cell_type": "code",
   "execution_count": 90,
   "id": "c3638cc7",
   "metadata": {},
   "outputs": [
    {
     "name": "stdout",
     "output_type": "stream",
     "text": [
      "[[1041  645]\n",
      " [ 384 2550]]\n",
      "Classification report: \n",
      "              precision    recall  f1-score   support\n",
      "\n",
      "           0       0.73      0.62      0.67      1686\n",
      "           1       0.80      0.87      0.83      2934\n",
      "\n",
      "    accuracy                           0.78      4620\n",
      "   macro avg       0.76      0.74      0.75      4620\n",
      "weighted avg       0.77      0.78      0.77      4620\n",
      "\n",
      "Accuracy of the model:  0.7772727272727272\n"
     ]
    }
   ],
   "source": [
    "from sklearn.metrics import confusion_matrix, accuracy_score, classification_report\n",
    "\n",
    "cfm=confusion_matrix(Y_test,Y_pred)\n",
    "print(cfm)\n",
    "\n",
    "print(\"Classification report: \")\n",
    "\n",
    "print(classification_report(Y_test,Y_pred))\n",
    "\n",
    "acc=accuracy_score(Y_test, Y_pred)\n",
    "print(\"Accuracy of the model: \",acc)"
   ]
  },
  {
   "cell_type": "markdown",
   "id": "b99f1da9",
   "metadata": {},
   "source": [
    "even after tunning the accuracy is not improving as much so we will go with other models"
   ]
  },
  {
   "cell_type": "markdown",
   "id": "b4971087",
   "metadata": {},
   "source": [
    "### ------------------------------------------------------------------------------------------------------------------------------"
   ]
  },
  {
   "cell_type": "code",
   "execution_count": 72,
   "id": "d573c587",
   "metadata": {},
   "outputs": [],
   "source": [
    "from sklearn.tree import DecisionTreeClassifier\n",
    "\n",
    "model_DT = DecisionTreeClassifier(criterion = 'gini',random_state=10,splitter='best',max_depth=10,min_samples_leaf=4)\n",
    "\n",
    "# fit the model on the data and predict the values\n",
    "\n",
    "model_DT.fit(X_train,Y_train)\n",
    "Y_pred= model_DT.predict(X_test)"
   ]
  },
  {
   "cell_type": "code",
   "execution_count": 73,
   "id": "6a89beda",
   "metadata": {},
   "outputs": [
    {
     "name": "stdout",
     "output_type": "stream",
     "text": [
      "[[1219  467]\n",
      " [ 422 2512]]\n",
      "Classification report: \n",
      "              precision    recall  f1-score   support\n",
      "\n",
      "           0       0.74      0.72      0.73      1686\n",
      "           1       0.84      0.86      0.85      2934\n",
      "\n",
      "    accuracy                           0.81      4620\n",
      "   macro avg       0.79      0.79      0.79      4620\n",
      "weighted avg       0.81      0.81      0.81      4620\n",
      "\n",
      "Accuracy of the model:  0.8075757575757576\n"
     ]
    }
   ],
   "source": [
    "from sklearn.metrics import confusion_matrix, accuracy_score, classification_report\n",
    "\n",
    "cfm=confusion_matrix(Y_test,Y_pred)\n",
    "print(cfm)\n",
    "\n",
    "print(\"Classification report: \")\n",
    "\n",
    "print(classification_report(Y_test,Y_pred))\n",
    "\n",
    "acc=accuracy_score(Y_test, Y_pred)\n",
    "print(\"Accuracy of the model: \",acc)"
   ]
  },
  {
   "cell_type": "code",
   "execution_count": 74,
   "id": "fc3e92a3",
   "metadata": {},
   "outputs": [],
   "source": [
    "# predicting using Random Forest Classifier\n",
    "\n",
    "from sklearn.ensemble import RandomForestClassifier\n",
    "\n",
    "modelRF = RandomForestClassifier(n_estimators=150,random_state=10,bootstrap=True,n_jobs=1)\n",
    "\n",
    "# fit the model on the data and predict the values\n",
    "\n",
    "modelRF.fit(X_train,Y_train)\n",
    "Y_pred= modelRF.predict(X_test)"
   ]
  },
  {
   "cell_type": "code",
   "execution_count": 75,
   "id": "3c07b567",
   "metadata": {},
   "outputs": [
    {
     "name": "stdout",
     "output_type": "stream",
     "text": [
      "[[1205  481]\n",
      " [ 358 2576]]\n",
      "Classification report: \n",
      "              precision    recall  f1-score   support\n",
      "\n",
      "           0       0.77      0.71      0.74      1686\n",
      "           1       0.84      0.88      0.86      2934\n",
      "\n",
      "    accuracy                           0.82      4620\n",
      "   macro avg       0.81      0.80      0.80      4620\n",
      "weighted avg       0.82      0.82      0.82      4620\n",
      "\n",
      "Accuracy of the model:  0.8183982683982683\n"
     ]
    }
   ],
   "source": [
    "from sklearn.metrics import confusion_matrix, accuracy_score, classification_report\n",
    "\n",
    "cfm=confusion_matrix(Y_test,Y_pred)\n",
    "print(cfm)\n",
    "\n",
    "print(\"Classification report: \")\n",
    "\n",
    "print(classification_report(Y_test,Y_pred))\n",
    "\n",
    "acc=accuracy_score(Y_test, Y_pred)\n",
    "print(\"Accuracy of the model: \",acc)"
   ]
  },
  {
   "cell_type": "code",
   "execution_count": 76,
   "id": "ac48f934",
   "metadata": {},
   "outputs": [],
   "source": [
    "# predicting using the Gradien boosting classifier\n",
    "\n",
    "from xgboost import XGBClassifier\n",
    "\n",
    "model_XGB = XGBClassifier(n_estimators=50,random_state=10)\n",
    "\n",
    "# fit the model on the data and predict the values\n",
    "\n",
    "model_XGB.fit(X_train,Y_train)\n",
    "\n",
    "Y_pred = model_XGB.predict(X_test)"
   ]
  },
  {
   "cell_type": "code",
   "execution_count": 77,
   "id": "2a7e7fb4",
   "metadata": {},
   "outputs": [
    {
     "name": "stdout",
     "output_type": "stream",
     "text": [
      "[[1221  465]\n",
      " [ 317 2617]]\n",
      "Classification report: \n",
      "              precision    recall  f1-score   support\n",
      "\n",
      "           0       0.79      0.72      0.76      1686\n",
      "           1       0.85      0.89      0.87      2934\n",
      "\n",
      "    accuracy                           0.83      4620\n",
      "   macro avg       0.82      0.81      0.81      4620\n",
      "weighted avg       0.83      0.83      0.83      4620\n",
      "\n",
      "Accuracy of the model:  0.8307359307359308\n"
     ]
    }
   ],
   "source": [
    "from sklearn.metrics import confusion_matrix, accuracy_score, classification_report\n",
    "\n",
    "cfm=confusion_matrix(Y_test,Y_pred)\n",
    "print(cfm)\n",
    "\n",
    "print(\"Classification report: \")\n",
    "\n",
    "print(classification_report(Y_test,Y_pred))\n",
    "\n",
    "acc=accuracy_score(Y_test, Y_pred)\n",
    "print(\"Accuracy of the model: \",acc)"
   ]
  },
  {
   "cell_type": "code",
   "execution_count": 106,
   "id": "94e18329",
   "metadata": {},
   "outputs": [],
   "source": [
    "# predicting using the Gradien boosting classifier\n",
    "\n",
    "from sklearn.ensemble import GradientBoostingClassifier\n",
    "\n",
    "model_GradientBoosting = GradientBoostingClassifier(n_estimators=300,random_state=10)\n",
    "\n",
    "# fit the model on the data and predict the values\n",
    "\n",
    "model_GradientBoosting.fit(X_train,Y_train)\n",
    "\n",
    "Y_pred = model_GradientBoosting.predict(X_test)"
   ]
  },
  {
   "cell_type": "code",
   "execution_count": 107,
   "id": "b20dcdae",
   "metadata": {
    "scrolled": true
   },
   "outputs": [
    {
     "name": "stdout",
     "output_type": "stream",
     "text": [
      "[[1215  471]\n",
      " [ 301 2633]]\n",
      "Classification report: \n",
      "              precision    recall  f1-score   support\n",
      "\n",
      "           0       0.80      0.72      0.76      1686\n",
      "           1       0.85      0.90      0.87      2934\n",
      "\n",
      "    accuracy                           0.83      4620\n",
      "   macro avg       0.82      0.81      0.82      4620\n",
      "weighted avg       0.83      0.83      0.83      4620\n",
      "\n",
      "Accuracy of the model:  0.8329004329004329\n"
     ]
    }
   ],
   "source": [
    "from sklearn.metrics import confusion_matrix, accuracy_score, classification_report\n",
    "\n",
    "cfm=confusion_matrix(Y_test,Y_pred)\n",
    "print(cfm)\n",
    "\n",
    "print(\"Classification report: \")\n",
    "\n",
    "print(classification_report(Y_test,Y_pred))\n",
    "\n",
    "acc=accuracy_score(Y_test, Y_pred)\n",
    "print(\"Accuracy of the model: \",acc)"
   ]
  },
  {
   "cell_type": "markdown",
   "id": "edf5bea4",
   "metadata": {},
   "source": [
    "#### -------------------------------------------------------------------------------------------------------------------------------------------------------------------------------------------------"
   ]
  },
  {
   "cell_type": "code",
   "execution_count": 108,
   "id": "b771c8b4",
   "metadata": {},
   "outputs": [],
   "source": []
  },
  {
   "cell_type": "code",
   "execution_count": 109,
   "id": "2f9b7106",
   "metadata": {},
   "outputs": [],
   "source": []
  },
  {
   "cell_type": "code",
   "execution_count": null,
   "id": "2e21e043",
   "metadata": {},
   "outputs": [],
   "source": []
  },
  {
   "cell_type": "code",
   "execution_count": null,
   "id": "d8885b5f",
   "metadata": {},
   "outputs": [],
   "source": []
  }
 ],
 "metadata": {
  "kernelspec": {
   "display_name": "Python 3 (ipykernel)",
   "language": "python",
   "name": "python3"
  },
  "language_info": {
   "codemirror_mode": {
    "name": "ipython",
    "version": 3
   },
   "file_extension": ".py",
   "mimetype": "text/x-python",
   "name": "python",
   "nbconvert_exporter": "python",
   "pygments_lexer": "ipython3",
   "version": "3.10.9"
  }
 },
 "nbformat": 4,
 "nbformat_minor": 5
}
